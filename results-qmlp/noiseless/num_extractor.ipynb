{
 "cells": [
  {
   "cell_type": "code",
   "execution_count": null,
   "id": "b9c84b9c",
   "metadata": {},
   "outputs": [],
   "source": [
    "import pandas as pd\n",
    "import matplotlib.pyplot as plt\n",
    "import os"
   ]
  },
  {
   "cell_type": "code",
   "execution_count": null,
   "id": "de265027",
   "metadata": {},
   "outputs": [],
   "source": [
    "def load_combine(csv_files):\n",
    "    columns_to_analyze = [\n",
    "        'accuracy', 'f1', 'fpr', 'fnr',\n",
    "    ]\n",
    "    ndfs = []\n",
    "    for file in csv_files:\n",
    "        df = pd.read_csv(file)\n",
    "        ndfs.append(df)\n",
    "    combined_df = pd.concat(ndfs, ignore_index=True)  \n",
    "    return combined_df"
   ]
  },
  {
   "cell_type": "code",
   "execution_count": null,
   "id": "bf4421b8",
   "metadata": {},
   "outputs": [],
   "source": [
    "def compute_mean_std(attack,combined_df ) -> None:\n",
    "    attack_df = combined_df[combined_df['Attack Type'] == attack]\n",
    "    \n",
    "    # Store epsilons in a dictionary\n",
    "    epsilons = {\n",
    "        'eps1': attack_df[attack_df['Epsilon'] == 0.00],\n",
    "        'eps2': attack_df[attack_df['Epsilon'] == 0.01],\n",
    "        'eps3': attack_df[attack_df['Epsilon'] == 0.10],\n",
    "        'eps4': attack_df[attack_df['Epsilon'] == 0.15],\n",
    "    }\n",
    "    \n",
    "    for name, df in epsilons.items():\n",
    "        # Drop non-metric columns\n",
    "        metrics_df = df.drop(columns=['Run ID', 'Epsilon', 'Attack Type','loss','recall','roc_auc', 'precision','pr_auc'], errors='ignore')\n",
    "        print(metrics_df.head())\n",
    "        # Calculate mean and std\n",
    "        mean_series = (metrics_df.mean() * 100).round(2)\n",
    "        std_series = (metrics_df.std() * 100).round(2)\n",
    "        \n",
    "        \n",
    "        # Combine into a single DataFrame\n",
    "        result_df = pd.DataFrame([mean_series, std_series], index=['mean', 'std'])\n",
    "        \n",
    "        print(f\"\\n{name} (Epsilon = {df['Epsilon'].iloc[0]}):\")\n",
    "        print(result_df)\n"
   ]
  }
 ],
 "metadata": {
  "language_info": {
   "name": "python"
  }
 },
 "nbformat": 4,
 "nbformat_minor": 5
}
