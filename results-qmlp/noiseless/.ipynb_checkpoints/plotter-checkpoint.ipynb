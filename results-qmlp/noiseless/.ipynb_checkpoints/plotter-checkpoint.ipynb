{
 "cells": [
  {
   "cell_type": "code",
   "execution_count": 6,
   "id": "ea6ae295-a53d-45af-aec4-764a33fd32dc",
   "metadata": {
    "scrolled": true
   },
   "outputs": [
    {
     "name": "stdout",
     "output_type": "stream",
     "text": [
      "Requirement already satisfied: pandas in /opt/miniconda3/envs/qml-env/lib/python3.11/site-packages (2.3.0)\n",
      "Requirement already satisfied: numpy>=1.23.2 in /opt/miniconda3/envs/qml-env/lib/python3.11/site-packages (from pandas) (2.3.0)\n",
      "Requirement already satisfied: python-dateutil>=2.8.2 in /opt/miniconda3/envs/qml-env/lib/python3.11/site-packages (from pandas) (2.9.0.post0)\n",
      "Requirement already satisfied: pytz>=2020.1 in /opt/miniconda3/envs/qml-env/lib/python3.11/site-packages (from pandas) (2025.2)\n",
      "Requirement already satisfied: tzdata>=2022.7 in /opt/miniconda3/envs/qml-env/lib/python3.11/site-packages (from pandas) (2025.2)\n",
      "Requirement already satisfied: six>=1.5 in /opt/miniconda3/envs/qml-env/lib/python3.11/site-packages (from python-dateutil>=2.8.2->pandas) (1.17.0)\n",
      "Requirement already satisfied: matplotlib in /opt/miniconda3/envs/qml-env/lib/python3.11/site-packages (3.10.3)\n",
      "Requirement already satisfied: contourpy>=1.0.1 in /opt/miniconda3/envs/qml-env/lib/python3.11/site-packages (from matplotlib) (1.3.2)\n",
      "Requirement already satisfied: cycler>=0.10 in /opt/miniconda3/envs/qml-env/lib/python3.11/site-packages (from matplotlib) (0.12.1)\n",
      "Requirement already satisfied: fonttools>=4.22.0 in /opt/miniconda3/envs/qml-env/lib/python3.11/site-packages (from matplotlib) (4.58.5)\n",
      "Requirement already satisfied: kiwisolver>=1.3.1 in /opt/miniconda3/envs/qml-env/lib/python3.11/site-packages (from matplotlib) (1.4.8)\n",
      "Requirement already satisfied: numpy>=1.23 in /opt/miniconda3/envs/qml-env/lib/python3.11/site-packages (from matplotlib) (2.3.0)\n",
      "Requirement already satisfied: packaging>=20.0 in /opt/miniconda3/envs/qml-env/lib/python3.11/site-packages (from matplotlib) (25.0)\n",
      "Requirement already satisfied: pillow>=8 in /opt/miniconda3/envs/qml-env/lib/python3.11/site-packages (from matplotlib) (11.3.0)\n",
      "Requirement already satisfied: pyparsing>=2.3.1 in /opt/miniconda3/envs/qml-env/lib/python3.11/site-packages (from matplotlib) (3.2.3)\n",
      "Requirement already satisfied: python-dateutil>=2.7 in /opt/miniconda3/envs/qml-env/lib/python3.11/site-packages (from matplotlib) (2.9.0.post0)\n",
      "Requirement already satisfied: six>=1.5 in /opt/miniconda3/envs/qml-env/lib/python3.11/site-packages (from python-dateutil>=2.7->matplotlib) (1.17.0)\n"
     ]
    }
   ],
   "source": [
    "!pip install pandas\n",
    "!pip install matplotlib"
   ]
  },
  {
   "cell_type": "code",
   "execution_count": 2,
   "id": "25db36e3-65e1-493e-a4df-80ff3231417b",
   "metadata": {},
   "outputs": [],
   "source": [
    "import pandas as pd\n",
    "import matplotlib.pyplot as plt\n",
    "import os"
   ]
  },
  {
   "cell_type": "code",
   "execution_count": 3,
   "id": "1f28e0bf-3c12-4d98-999e-984d972c50a9",
   "metadata": {},
   "outputs": [],
   "source": [
    "\n",
    "def compute_mean_std(attack,combined_df ) -> None:\n",
    "    attack_df = combined_df[combined_df['Attack Type'] == attack]\n",
    "    \n",
    "    # Store epsilons in a dictionary\n",
    "    epsilons = {\n",
    "        'eps1': attack_df[attack_df['Epsilon'] == 0.00],\n",
    "        # 'eps2': attack_df[attack_df['Epsilon'] == 0.01],\n",
    "        # 'eps3': attack_df[attack_df['Epsilon'] == 0.10],\n",
    "        'eps4': attack_df[attack_df['Epsilon'] == 0.15],\n",
    "    }\n",
    "    \n",
    "    for name, df in epsilons.items():\n",
    "        # Drop non-metric columns\n",
    "        metrics_df = df.drop(columns=['Run ID', 'Epsilon', 'Attack Type','loss', 'pr_auc'], errors='ignore')\n",
    "        \n",
    "        # Calculate mean and std\n",
    "        mean_series = (metrics_df.mean() * 100).round(2)\n",
    "        std_series = (metrics_df.std() * 100).round(2)\n",
    "        \n",
    "        \n",
    "        # Combine into a single DataFrame\n",
    "        result_df = pd.DataFrame([mean_series, std_series], index=['mean', 'std'])\n",
    "        \n",
    "        print(f\"\\n{name} (Epsilon = {df['Epsilon'].iloc[0]}):\")\n",
    "        print(result_df)\n",
    "\n",
    "\n",
    "def load_combine(csv_files):\n",
    "    columns_to_analyze = [\n",
    "        'accuracy', 'loss', 'precision', 'recall', 'f1', 'fpr', 'fnr', 'roc_auc', 'pr_auc'\n",
    "    ]\n",
    "    ndfs = []\n",
    "    for file in csv_files:\n",
    "        df = pd.read_csv(file)\n",
    "        ndfs.append(df)\n",
    "    combined_df = pd.concat(ndfs, ignore_index=True)  \n",
    "    # print(combined_df.head())\n",
    "    # print(len(combined_df))\n",
    "    return combined_df"
   ]
  },
  {
   "cell_type": "code",
   "execution_count": 4,
   "id": "dc908136-65c9-4f99-9412-0d7f7c7a5884",
   "metadata": {},
   "outputs": [
    {
     "name": "stdout",
     "output_type": "stream",
     "text": [
      "FGSM\n",
      "\n",
      "eps1 (Epsilon = 0.0):\n",
      "      accuracy  precision  recall     f1   fpr    fnr  roc_auc\n",
      "mean     40.11      37.98   39.52  38.74  2.73  60.48    85.41\n",
      "std       0.11       0.12    0.26   0.15  0.01   0.26     0.20\n",
      "\n",
      "eps4 (Epsilon = 0.15):\n",
      "      accuracy  precision  recall    f1   fpr    fnr  roc_auc\n",
      "mean      0.35       0.15    0.33  0.19  4.54  99.67    17.43\n",
      "std       0.20       0.16    0.18  0.18  0.01   0.18     0.47\n",
      "PGD\n",
      "\n",
      "eps1 (Epsilon = 0.0):\n",
      "      accuracy  precision  recall     f1   fpr    fnr  roc_auc\n",
      "mean     40.11      37.98   39.52  38.74  2.73  60.48    85.41\n",
      "std       0.11       0.12    0.26   0.15  0.01   0.26     0.20\n",
      "\n",
      "eps4 (Epsilon = 0.15):\n",
      "      accuracy  precision  recall   f1   fpr    fnr  roc_auc\n",
      "mean      0.01        0.0    0.01  0.0  4.54  99.99    14.82\n",
      "std       0.01        0.0    0.01  0.0  0.03   0.01     1.89\n"
     ]
    }
   ],
   "source": [
    "csv_files = [\n",
    "    'qmlp-az-run_run1-layer2_Amplitude_all_attacks.csv',\n",
    "    'qmlp-az-run_run2-layer2_Amplitude_all_attacks.csv',\n",
    "    'qmlp-az-run_run3-layer2_Amplitude_all_attacks.csv'\n",
    "]\n",
    "df = load_combine(csv_files)\n",
    "print('FGSM')\n",
    "compute_mean_std('fgsm',df)\n",
    "print('PGD')\n",
    "compute_mean_std('pgd',df)"
   ]
  },
  {
   "cell_type": "code",
   "execution_count": 5,
   "id": "71173e3f-2663-4161-84fd-50f9db0f57a9",
   "metadata": {},
   "outputs": [
    {
     "name": "stdout",
     "output_type": "stream",
     "text": [
      "FGSM\n",
      "\n",
      "eps1 (Epsilon = 0.0):\n",
      "      accuracy  precision  recall     f1   fpr    fnr  roc_auc\n",
      "mean     55.04      53.61   54.17  53.88  2.05  45.83    92.79\n",
      "std       1.36       0.92    1.27   0.40  0.06   1.27     0.22\n",
      "\n",
      "eps4 (Epsilon = 0.15):\n",
      "      accuracy  precision  recall    f1   fpr    fnr  roc_auc\n",
      "mean      0.11       0.05    0.10  0.06  4.56  99.90    18.83\n",
      "std       0.07       0.02    0.07  0.02  0.00   0.07     1.39\n",
      "PGD\n",
      "\n",
      "eps1 (Epsilon = 0.0):\n",
      "      accuracy  precision  recall     f1   fpr    fnr  roc_auc\n",
      "mean     55.04      53.61   54.17  53.88  2.05  45.83    92.79\n",
      "std       1.36       0.92    1.27   0.40  0.06   1.27     0.22\n",
      "\n",
      "eps4 (Epsilon = 0.15):\n",
      "      accuracy  precision  recall   f1   fpr    fnr  roc_auc\n",
      "mean       0.0        0.0     0.0  0.0  4.55  100.0    12.95\n",
      "std        0.0        0.0     0.0  0.0  0.00    0.0     0.43\n"
     ]
    }
   ],
   "source": [
    "csv_files = [\n",
    "    'qmlp-az-run_run1-layer10_Amplitude_all_attacks.csv',\n",
    "    'qmlp-az-run_run2-layer10_Amplitude_all_attacks.csv',\n",
    "    'qmlp-az-run_run3-layer10_Amplitude_all_attacks.csv'\n",
    "]\n",
    "df = load_combine(csv_files)\n",
    "print('FGSM')\n",
    "compute_mean_std('fgsm',df)\n",
    "print('PGD')\n",
    "compute_mean_std('pgd',df)"
   ]
  },
  {
   "cell_type": "code",
   "execution_count": 6,
   "id": "da6ec1d8-6278-4743-b7ee-d5b69d2c68a3",
   "metadata": {},
   "outputs": [
    {
     "name": "stdout",
     "output_type": "stream",
     "text": [
      "FGSM\n",
      "\n",
      "eps1 (Epsilon = 0.0):\n",
      "      accuracy  precision  recall     f1   fpr    fnr  roc_auc\n",
      "mean     66.90      64.88   65.73  65.30  1.51  34.27    96.04\n",
      "std       0.66       0.84    0.46   0.65  0.03   0.46     0.03\n",
      "\n",
      "eps4 (Epsilon = 0.15):\n",
      "      accuracy  precision  recall   f1   fpr    fnr  roc_auc\n",
      "mean       0.0        0.0     0.0  0.0  4.56  100.0     5.70\n",
      "std        0.0        0.0     0.0  0.0  0.00    0.0     0.89\n",
      "PGD\n",
      "\n",
      "eps1 (Epsilon = 0.0):\n",
      "      accuracy  precision  recall     f1   fpr    fnr  roc_auc\n",
      "mean     66.90      64.88   65.73  65.30  1.51  34.27    96.04\n",
      "std       0.66       0.84    0.46   0.65  0.03   0.46     0.03\n",
      "\n",
      "eps4 (Epsilon = 0.15):\n",
      "      accuracy  precision  recall   f1   fpr    fnr  roc_auc\n",
      "mean       0.0        0.0     0.0  0.0  4.55  100.0     7.74\n",
      "std        0.0        0.0     0.0  0.0  0.00    0.0     0.60\n"
     ]
    }
   ],
   "source": [
    "csv_files = [\n",
    "    'qmlp-az-run_run1-layer50_Amplitude_all_attacks.csv',\n",
    "    'qmlp-az-run_run2-layer50_Amplitude_all_attacks.csv',\n",
    "    'qmlp-az-run_run3-layer50_Amplitude_all_attacks.csv'\n",
    "]\n",
    "df = load_combine(csv_files)\n",
    "print('FGSM')\n",
    "compute_mean_std('fgsm',df)\n",
    "print('PGD')\n",
    "compute_mean_std('pgd',df)"
   ]
  },
  {
   "cell_type": "code",
   "execution_count": 7,
   "id": "b4622093-7bf0-47e1-9d93-d1e17bd26f74",
   "metadata": {},
   "outputs": [
    {
     "name": "stdout",
     "output_type": "stream",
     "text": [
      "FGSM\n",
      "\n",
      "eps1 (Epsilon = 0.0):\n",
      "      accuracy  precision  recall     f1   fpr    fnr  roc_auc\n",
      "mean     49.77      47.72   49.12  48.41  2.29  50.88    92.41\n",
      "std       0.16       0.55    0.17   0.37  0.01   0.17     0.12\n",
      "\n",
      "eps4 (Epsilon = 0.15):\n",
      "      accuracy  precision  recall     f1   fpr    fnr  roc_auc\n",
      "mean     13.93      14.17   12.50  13.19  3.93  87.50    76.14\n",
      "std       0.78       2.57    0.71   1.14  0.04   0.71     1.07\n",
      "PGD\n",
      "\n",
      "eps1 (Epsilon = 0.0):\n",
      "      accuracy  precision  recall     f1   fpr    fnr  roc_auc\n",
      "mean     49.77      47.72   49.12  48.41  2.29  50.88    92.41\n",
      "std       0.16       0.55    0.17   0.37  0.01   0.17     0.12\n",
      "\n",
      "eps4 (Epsilon = 0.15):\n",
      "      accuracy  precision  recall     f1   fpr    fnr  roc_auc\n",
      "mean     13.13      13.70   11.77  12.56  3.97  88.23    75.52\n",
      "std       1.02       2.39    0.91   0.98  0.05   0.91     1.12\n"
     ]
    }
   ],
   "source": [
    "csv_files = [\n",
    "    'qmlp-az-run_run1-layer2_Angle_all_attacks.csv',\n",
    "    'qmlp-az-run_run2-layer2_Angle_all_attacks.csv',\n",
    "    'qmlp-az-run_run3-layer2_Angle_all_attacks.csv'\n",
    "]\n",
    "df = load_combine(csv_files)\n",
    "print('FGSM')\n",
    "compute_mean_std('fgsm',df)\n",
    "print('PGD')\n",
    "compute_mean_std('pgd',df)"
   ]
  },
  {
   "cell_type": "code",
   "execution_count": 9,
   "id": "bd0980b6-3c3e-4d1c-9253-a2204109afa2",
   "metadata": {},
   "outputs": [
    {
     "name": "stdout",
     "output_type": "stream",
     "text": [
      "FGSM\n",
      "\n",
      "eps1 (Epsilon = 0.0):\n",
      "      accuracy  precision  recall     f1   fpr    fnr  roc_auc\n",
      "mean     54.88      52.27   54.11  53.18  2.05  45.89    93.64\n",
      "std       0.82       1.01    0.96   0.97  0.04   0.96     0.24\n",
      "\n",
      "eps4 (Epsilon = 0.15):\n",
      "      accuracy  precision  recall    f1   fpr    fnr  roc_auc\n",
      "mean     10.83       9.33    9.78  9.54  4.07  90.22    75.15\n",
      "std       0.56       0.76    0.50  0.56  0.02   0.50     0.48\n",
      "PGD\n",
      "\n",
      "eps1 (Epsilon = 0.0):\n",
      "      accuracy  precision  recall     f1   fpr    fnr  roc_auc\n",
      "mean     54.88      52.27   54.11  53.18  2.05  45.89    93.64\n",
      "std       0.82       1.01    0.96   0.97  0.04   0.96     0.24\n",
      "\n",
      "eps4 (Epsilon = 0.15):\n",
      "      accuracy  precision  recall    f1   fpr    fnr  roc_auc\n",
      "mean      9.52       7.04    8.55  7.70  4.13  91.45    72.85\n",
      "std       0.26       1.21    0.21  0.82  0.01   0.21     0.43\n"
     ]
    }
   ],
   "source": [
    "csv_files = [\n",
    "    'qmlp-az-run_run1-layer10_Angle_Angle_all_attacks.csv',\n",
    "    'qmlp-az-run_run2-layer10_Angle_Angle_all_attacks.csv',\n",
    "    'qmlp-az-run_run3-layer10_Angle_Angle_all_attacks.csv'\n",
    "]\n",
    "df = load_combine(csv_files)\n",
    "print('FGSM')\n",
    "compute_mean_std('fgsm',df)\n",
    "print('PGD')\n",
    "compute_mean_std('pgd',df)"
   ]
  },
  {
   "cell_type": "code",
   "execution_count": null,
   "id": "1229f22e-5699-4977-9d37-55f57f740427",
   "metadata": {},
   "outputs": [],
   "source": [
    "# qmlp-mnist-run_run1-layer2_Angle_all_attacks.csv\n",
    "csv_files = [\n",
    "    'qmlp-mnist-run_run1-layer2_Angle_all_attacks.csv',\n",
    "    'qmlp-mnist-run_run2-layer2_Angle_all_attacks.csv',\n",
    "    'qmlp-mnist-run_run3-layer2_Angle_all_attacks.csv'\n",
    "]\n",
    "df = load_combine(csv_files)\n",
    "print('FGSM')\n",
    "compute_mean_std('fgsm',df)\n",
    "print('PGD')\n",
    "compute_mean_std('pgd',df)"
   ]
  }
 ],
 "metadata": {
  "kernelspec": {
   "display_name": "Python 3 (ipykernel)",
   "language": "python",
   "name": "python3"
  },
  "language_info": {
   "codemirror_mode": {
    "name": "ipython",
    "version": 3
   },
   "file_extension": ".py",
   "mimetype": "text/x-python",
   "name": "python",
   "nbconvert_exporter": "python",
   "pygments_lexer": "ipython3",
   "version": "3.11.13"
  }
 },
 "nbformat": 4,
 "nbformat_minor": 5
}
