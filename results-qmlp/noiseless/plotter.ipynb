{
 "cells": [
  {
   "cell_type": "code",
   "execution_count": 1,
   "id": "ea6ae295-a53d-45af-aec4-764a33fd32dc",
   "metadata": {
    "scrolled": true
   },
   "outputs": [
    {
     "name": "stdout",
     "output_type": "stream",
     "text": [
      "Requirement already satisfied: pandas in /opt/miniconda3/envs/qml-env/lib/python3.11/site-packages (2.3.0)\n",
      "Requirement already satisfied: numpy>=1.23.2 in /opt/miniconda3/envs/qml-env/lib/python3.11/site-packages (from pandas) (2.3.0)\n",
      "Requirement already satisfied: python-dateutil>=2.8.2 in /opt/miniconda3/envs/qml-env/lib/python3.11/site-packages (from pandas) (2.9.0.post0)\n",
      "Requirement already satisfied: pytz>=2020.1 in /opt/miniconda3/envs/qml-env/lib/python3.11/site-packages (from pandas) (2025.2)\n",
      "Requirement already satisfied: tzdata>=2022.7 in /opt/miniconda3/envs/qml-env/lib/python3.11/site-packages (from pandas) (2025.2)\n",
      "Requirement already satisfied: six>=1.5 in /opt/miniconda3/envs/qml-env/lib/python3.11/site-packages (from python-dateutil>=2.8.2->pandas) (1.17.0)\n",
      "Requirement already satisfied: matplotlib in /opt/miniconda3/envs/qml-env/lib/python3.11/site-packages (3.10.3)\n",
      "Requirement already satisfied: contourpy>=1.0.1 in /opt/miniconda3/envs/qml-env/lib/python3.11/site-packages (from matplotlib) (1.3.2)\n",
      "Requirement already satisfied: cycler>=0.10 in /opt/miniconda3/envs/qml-env/lib/python3.11/site-packages (from matplotlib) (0.12.1)\n",
      "Requirement already satisfied: fonttools>=4.22.0 in /opt/miniconda3/envs/qml-env/lib/python3.11/site-packages (from matplotlib) (4.58.5)\n",
      "Requirement already satisfied: kiwisolver>=1.3.1 in /opt/miniconda3/envs/qml-env/lib/python3.11/site-packages (from matplotlib) (1.4.8)\n",
      "Requirement already satisfied: numpy>=1.23 in /opt/miniconda3/envs/qml-env/lib/python3.11/site-packages (from matplotlib) (2.3.0)\n",
      "Requirement already satisfied: packaging>=20.0 in /opt/miniconda3/envs/qml-env/lib/python3.11/site-packages (from matplotlib) (25.0)\n",
      "Requirement already satisfied: pillow>=8 in /opt/miniconda3/envs/qml-env/lib/python3.11/site-packages (from matplotlib) (11.3.0)\n",
      "Requirement already satisfied: pyparsing>=2.3.1 in /opt/miniconda3/envs/qml-env/lib/python3.11/site-packages (from matplotlib) (3.2.3)\n",
      "Requirement already satisfied: python-dateutil>=2.7 in /opt/miniconda3/envs/qml-env/lib/python3.11/site-packages (from matplotlib) (2.9.0.post0)\n",
      "Requirement already satisfied: six>=1.5 in /opt/miniconda3/envs/qml-env/lib/python3.11/site-packages (from python-dateutil>=2.7->matplotlib) (1.17.0)\n"
     ]
    }
   ],
   "source": [
    "!pip install pandas\n",
    "!pip install matplotlib"
   ]
  },
  {
   "cell_type": "code",
   "execution_count": 2,
   "id": "25db36e3-65e1-493e-a4df-80ff3231417b",
   "metadata": {},
   "outputs": [],
   "source": [
    "import pandas as pd\n",
    "import matplotlib.pyplot as plt\n",
    "import os"
   ]
  },
  {
   "cell_type": "code",
   "execution_count": 3,
   "id": "1f28e0bf-3c12-4d98-999e-984d972c50a9",
   "metadata": {},
   "outputs": [],
   "source": [
    "\n",
    "# def compute_mean_std(attack,combined_df ) -> None:\n",
    "#     attack_df = combined_df[combined_df['Attack Type'] == attack]\n",
    "    \n",
    "#     # Store epsilons in a dictionary\n",
    "    # epsilons = {\n",
    "    #     'eps1': attack_df[attack_df['Epsilon'] == 0.00],\n",
    "    #     'eps2': attack_df[attack_df['Epsilon'] == 0.01],\n",
    "    #     'eps3': attack_df[attack_df['Epsilon'] == 0.10],\n",
    "    #     'eps4': attack_df[attack_df['Epsilon'] == 0.15],\n",
    "    # }\n",
    "    \n",
    "#     for name, df in epsilons.items():\n",
    "#         # Drop non-metric columns\n",
    "#         metrics_df = df.drop(columns=['Run ID', 'Epsilon', 'Attack Type','loss','recall','roc_auc', 'precision','pr_auc'], errors='ignore')\n",
    "        \n",
    "#         # Calculate mean and std\n",
    "#         mean_series = (metrics_df.mean() * 100).round(2)\n",
    "#         std_series = (metrics_df.std() * 100).round(2)\n",
    "        \n",
    "        \n",
    "#         # Combine into a single DataFrame\n",
    "#         result_df = pd.DataFrame([mean_series, std_series], index=['mean', 'std'])\n",
    "        \n",
    "        # print(f\"\\n{name} (Epsilon = {df['Epsilon'].iloc[0]}):\")\n",
    "        # print(result_df)\n",
    "        \n",
    "\n",
    "\n",
    "def load_combine(csv_files):\n",
    "    columns_to_analyze = [\n",
    "        'accuracy', 'loss', 'precision', 'recall', 'f1', 'fpr', 'fnr', 'roc_auc', 'pr_auc'\n",
    "    ]\n",
    "    ndfs = []\n",
    "    for file in csv_files:\n",
    "        df = pd.read_csv(file)\n",
    "        ndfs.append(df)\n",
    "    combined_df = pd.concat(ndfs, ignore_index=True)  \n",
    "    # print(combined_df.head())\n",
    "    # print(len(combined_df))\n",
    "    return combined_df"
   ]
  },
  {
   "cell_type": "code",
   "execution_count": 4,
   "id": "8ac719ca",
   "metadata": {},
   "outputs": [],
   "source": [
    "# import pandas as pd\n",
    "# import matplotlib.pyplot as plt\n",
    "\n",
    "# def compute_mean_std_and_plot(attack, combined_df) -> None:\n",
    "#     attack_df = combined_df[combined_df['Attack Type'] == attack]\n",
    "    \n",
    "#     # Store epsilons in a dictionary\n",
    "#     epsilons = {\n",
    "#         'eps1': attack_df[attack_df['Epsilon'] == 0.00],\n",
    "#         'eps2': attack_df[attack_df['Epsilon'] == 0.01],\n",
    "#         'eps3': attack_df[attack_df['Epsilon'] == 0.10],\n",
    "#         'eps4': attack_df[attack_df['Epsilon'] == 0.15],\n",
    "#     }\n",
    "\n",
    "#     stats = []\n",
    "\n",
    "#     for name, df in epsilons.items():\n",
    "#         # Drop non-metric columns\n",
    "#         metrics_df = df.drop(columns=['Run ID', 'Epsilon', 'Attack Type','loss','recall','roc_auc', 'precision','pr_auc'], errors='ignore')\n",
    "        \n",
    "#         # Check for 'accuracy' column\n",
    "#         if 'accuracy' not in metrics_df.columns or metrics_df.empty:\n",
    "#             continue\n",
    "\n",
    "#         # Calculate mean and std\n",
    "#         mean = (metrics_df['accuracy'].mean() * 100).round(2)\n",
    "#         std = (metrics_df['accuracy'].std() * 100).round(2)\n",
    "\n",
    "#         epsilon_val = df['Epsilon'].iloc[0] if not df.empty else None\n",
    "\n",
    "#         stats.append({\n",
    "#             'Epsilon': epsilon_val,\n",
    "#             'Metric': 'accuracy',\n",
    "#             'Mean': mean,\n",
    "#             'Std': std\n",
    "#         })\n",
    "\n",
    "#         # Optional: print intermediate table\n",
    "#         result_df = pd.DataFrame([mean, std], index=['mean', 'std'], columns=['accuracy'])\n",
    "#         print(f\"\\n{name} (Epsilon = {epsilon_val}):\")\n",
    "#         print(result_df)\n",
    "\n",
    "#     # Create DataFrame for plotting\n",
    "#     stats_df = pd.DataFrame(stats).dropna().sort_values(by='Epsilon')\n",
    "#     epsilons = stats_df[\"Epsilon\"].values\n",
    "#     means = stats_df[\"Mean\"].values\n",
    "#     stds = stats_df[\"Std\"].values\n",
    "\n",
    "#     # Plot\n",
    "#     plt.figure(figsize=(6, 4))\n",
    "#     plt.errorbar(\n",
    "#     x=range(len(epsilons)),  # Even spacing\n",
    "#     y=means,\n",
    "#     yerr=stds,\n",
    "#     fmt='-o',\n",
    "#     capsize=5,\n",
    "#     label=f'{attack.upper()}',\n",
    "#     color=\"#377eb8\",\n",
    "#     markerfacecolor=\"#377eb8\",\n",
    "#     markersize=6,\n",
    "#     linewidth=2\n",
    "# )\n",
    "\n",
    "#     plt.title(f\"Accuracy vs. Epsilon ({attack.upper()} Attack)\", fontsize=18, fontweight='bold')\n",
    "#     plt.xlabel(\"Epsilon\", fontsize=16, fontweight='bold')\n",
    "#     plt.ylabel(\"Accuracy (%)\", fontsize=16, fontweight='bold')\n",
    "#     # plt.xticks(epsilons, fontsize=12)\n",
    "#     plt.xticks(ticks=range(len(epsilons)), labels=[str(e) for e in epsilons], fontsize=20)\n",
    "#     plt.yticks(fontsize=12)\n",
    "#     plt.ylim(0, 100)\n",
    "#     plt.grid(True, linestyle='--', alpha=0.6)\n",
    "#     plt.legend(fontsize=12, frameon=True)\n",
    "#     plt.tight_layout()\n",
    "#     plt.show()\n",
    "\n",
    "\n",
    "import pandas as pd\n",
    "\n",
    "def compute_mean_std(attack, combined_df):\n",
    "    attack_df = combined_df[combined_df['Attack Type'] == attack]\n",
    "    \n",
    "    # Store epsilons in a dictionary\n",
    "    epsilons = {\n",
    "        0.00: attack_df[attack_df['Epsilon'] == 0.00],\n",
    "        0.01: attack_df[attack_df['Epsilon'] == 0.01],\n",
    "        0.10: attack_df[attack_df['Epsilon'] == 0.10],\n",
    "        0.15: attack_df[attack_df['Epsilon'] == 0.15],\n",
    "    }\n",
    "    \n",
    "    results = {}\n",
    "\n",
    "    for epsilon_val, df in epsilons.items():\n",
    "        # Drop non-metric columns\n",
    "        metrics_df = df.drop(columns=[\n",
    "            'Run ID', 'Epsilon', 'Attack Type',\n",
    "            'loss', 'recall', 'roc_auc', 'precision', 'pr_auc'\n",
    "        ], errors='ignore')\n",
    "        \n",
    "        # Skip if there's no relevant data\n",
    "        if metrics_df.empty:\n",
    "            continue\n",
    "        \n",
    "        # Calculate mean and std\n",
    "        mean_series = (metrics_df.mean() * 100).round(2)\n",
    "        std_series = (metrics_df.std() * 100).round(2)\n",
    "\n",
    "        # Combine into a DataFrame\n",
    "        result_df = pd.DataFrame([mean_series, std_series], index=['mean', 'std'])\n",
    "\n",
    "        results[epsilon_val] = result_df\n",
    "\n",
    "    return results\n"
   ]
  },
  {
   "cell_type": "code",
   "execution_count": 8,
   "id": "dc908136-65c9-4f99-9412-0d7f7c7a5884",
   "metadata": {},
   "outputs": [
    {
     "name": "stdout",
     "output_type": "stream",
     "text": [
      "FGSM\n"
     ]
    },
    {
     "ename": "TypeError",
     "evalue": "Expected numeric dtype, got object instead.",
     "output_type": "error",
     "traceback": [
      "\u001b[31m---------------------------------------------------------------------------\u001b[39m",
      "\u001b[31mTypeError\u001b[39m                                 Traceback (most recent call last)",
      "\u001b[36mCell\u001b[39m\u001b[36m \u001b[39m\u001b[32mIn[8]\u001b[39m\u001b[32m, line 8\u001b[39m\n\u001b[32m      6\u001b[39m df = load_combine(csv_files)\n\u001b[32m      7\u001b[39m \u001b[38;5;28mprint\u001b[39m(\u001b[33m'\u001b[39m\u001b[33mFGSM\u001b[39m\u001b[33m'\u001b[39m)\n\u001b[32m----> \u001b[39m\u001b[32m8\u001b[39m \u001b[43mcompute_mean_std\u001b[49m\u001b[43m(\u001b[49m\u001b[33;43m'\u001b[39;49m\u001b[33;43mfgsm\u001b[39;49m\u001b[33;43m'\u001b[39;49m\u001b[43m,\u001b[49m\u001b[43mdf\u001b[49m\u001b[43m)\u001b[49m\n\u001b[32m     10\u001b[39m \u001b[38;5;66;03m# print('PGD')\u001b[39;00m\n\u001b[32m     11\u001b[39m \u001b[38;5;66;03m# compute_mean_std('pgd',df)\u001b[39;00m\n",
      "\u001b[36mCell\u001b[39m\u001b[36m \u001b[39m\u001b[32mIn[4]\u001b[39m\u001b[32m, line 104\u001b[39m, in \u001b[36mcompute_mean_std\u001b[39m\u001b[34m(attack, combined_df)\u001b[39m\n\u001b[32m    101\u001b[39m     \u001b[38;5;28;01mcontinue\u001b[39;00m\n\u001b[32m    103\u001b[39m \u001b[38;5;66;03m# Calculate mean and std\u001b[39;00m\n\u001b[32m--> \u001b[39m\u001b[32m104\u001b[39m mean_series = \u001b[43m(\u001b[49m\u001b[43mmetrics_df\u001b[49m\u001b[43m.\u001b[49m\u001b[43mmean\u001b[49m\u001b[43m(\u001b[49m\u001b[43m)\u001b[49m\u001b[43m \u001b[49m\u001b[43m*\u001b[49m\u001b[43m \u001b[49m\u001b[32;43m100\u001b[39;49m\u001b[43m)\u001b[49m\u001b[43m.\u001b[49m\u001b[43mround\u001b[49m\u001b[43m(\u001b[49m\u001b[32;43m2\u001b[39;49m\u001b[43m)\u001b[49m\n\u001b[32m    105\u001b[39m std_series = (metrics_df.std() * \u001b[32m100\u001b[39m).round(\u001b[32m2\u001b[39m)\n\u001b[32m    107\u001b[39m \u001b[38;5;66;03m# Combine into a DataFrame\u001b[39;00m\n",
      "\u001b[36mFile \u001b[39m\u001b[32m/opt/miniconda3/envs/qml-env/lib/python3.11/site-packages/pandas/core/series.py:2818\u001b[39m, in \u001b[36mSeries.round\u001b[39m\u001b[34m(self, decimals, *args, **kwargs)\u001b[39m\n\u001b[32m   2816\u001b[39m nv.validate_round(args, kwargs)\n\u001b[32m   2817\u001b[39m \u001b[38;5;28;01mif\u001b[39;00m \u001b[38;5;28mself\u001b[39m.dtype == \u001b[33m\"\u001b[39m\u001b[33mobject\u001b[39m\u001b[33m\"\u001b[39m:\n\u001b[32m-> \u001b[39m\u001b[32m2818\u001b[39m     \u001b[38;5;28;01mraise\u001b[39;00m \u001b[38;5;167;01mTypeError\u001b[39;00m(\u001b[33m\"\u001b[39m\u001b[33mExpected numeric dtype, got object instead.\u001b[39m\u001b[33m\"\u001b[39m)\n\u001b[32m   2819\u001b[39m new_mgr = \u001b[38;5;28mself\u001b[39m._mgr.round(decimals=decimals, using_cow=using_copy_on_write())\n\u001b[32m   2820\u001b[39m \u001b[38;5;28;01mreturn\u001b[39;00m \u001b[38;5;28mself\u001b[39m._constructor_from_mgr(new_mgr, axes=new_mgr.axes).__finalize__(\n\u001b[32m   2821\u001b[39m     \u001b[38;5;28mself\u001b[39m, method=\u001b[33m\"\u001b[39m\u001b[33mround\u001b[39m\u001b[33m\"\u001b[39m\n\u001b[32m   2822\u001b[39m )\n",
      "\u001b[31mTypeError\u001b[39m: Expected numeric dtype, got object instead."
     ]
    }
   ],
   "source": [
    "csv_files = [\n",
    "    'qmlp-az-run_run1-layer2_Amplitude_all_attacks.csv',\n",
    "    'qmlp-az-run_run2-layer2_Amplitude_all_attacks.csv',\n",
    "    'qmlp-az-run_run3-layer2_Amplitude_all_attacks.csv'\n",
    "]\n",
    "df = load_combine(csv_files)\n",
    "print('FGSM')\n",
    "compute_mean_std('fgsm',df)\n",
    "\n",
    "# print('PGD')\n",
    "# compute_mean_std('pgd',df)"
   ]
  },
  {
   "cell_type": "code",
   "execution_count": 9,
   "id": "71173e3f-2663-4161-84fd-50f9db0f57a9",
   "metadata": {},
   "outputs": [
    {
     "name": "stdout",
     "output_type": "stream",
     "text": [
      "FGSM\n"
     ]
    },
    {
     "data": {
      "text/plain": [
       "{0.0:       accuracy     f1   fpr    fnr\n",
       " mean     55.04  53.88  2.05  45.83\n",
       " std       1.36   0.40  0.06   1.27,\n",
       " 0.01:       accuracy     f1   fpr    fnr\n",
       " mean     15.76  16.48  3.84  84.74\n",
       " std       0.26   1.38  0.01   0.47,\n",
       " 0.1:       accuracy    f1   fpr    fnr\n",
       " mean      0.57  0.39  4.54  99.46\n",
       " std       0.32  0.21  0.01   0.31,\n",
       " 0.15:       accuracy    f1   fpr    fnr\n",
       " mean      0.11  0.06  4.56  99.90\n",
       " std       0.07  0.02  0.00   0.07}"
      ]
     },
     "execution_count": 9,
     "metadata": {},
     "output_type": "execute_result"
    }
   ],
   "source": [
    "csv_files = [\n",
    "    'qmlp-az-run_run1-layer10_Amplitude_all_attacks.csv',\n",
    "    'qmlp-az-run_run2-layer10_Amplitude_all_attacks.csv',\n",
    "    'qmlp-az-run_run3-layer10_Amplitude_all_attacks.csv'\n",
    "]\n",
    "df = load_combine(csv_files)\n",
    "print('FGSM')\n",
    "compute_mean_std('fgsm',df)\n",
    "\n",
    "\n",
    "# print('PGD')\n",
    "# compute_mean_std('pgd',df)"
   ]
  },
  {
   "cell_type": "code",
   "execution_count": 10,
   "id": "da6ec1d8-6278-4743-b7ee-d5b69d2c68a3",
   "metadata": {},
   "outputs": [
    {
     "name": "stdout",
     "output_type": "stream",
     "text": [
      "FGSM\n",
      "PGD\n"
     ]
    },
    {
     "data": {
      "text/plain": [
       "{0.0:       accuracy     f1   fpr    fnr\n",
       " mean     66.96  65.41  1.51  34.21\n",
       " std       0.40   0.34  0.02   0.18,\n",
       " 0.01:       accuracy     f1   fpr    fnr\n",
       " mean     15.43  16.41  3.86  84.85\n",
       " std       1.70   0.77  0.08   1.72,\n",
       " 0.1:       accuracy   f1   fpr    fnr\n",
       " mean       0.0  0.0  4.56  100.0\n",
       " std        0.0  0.0  0.00    0.0,\n",
       " 0.15:       accuracy   f1   fpr    fnr\n",
       " mean       0.0  0.0  4.55  100.0\n",
       " std        0.0  0.0  0.00    0.0}"
      ]
     },
     "execution_count": 10,
     "metadata": {},
     "output_type": "execute_result"
    }
   ],
   "source": [
    "csv_files = [\n",
    "    'qmlp-az-run_run1-layer50_Amplitude_all_attacks.csv',\n",
    "    'qmlp-az-run_run2-layer50_Amplitude_all_attacks.csv',\n",
    "    'qmlp-az-run_run3-layer50_Amplitude_all_attacks.csv'\n",
    "]\n",
    "df = load_combine(csv_files)\n",
    "print('FGSM')\n",
    "compute_mean_std('fgsm',df)\n",
    "print('PGD')\n",
    "compute_mean_std('pgd',df)"
   ]
  },
  {
   "cell_type": "code",
   "execution_count": 20,
   "id": "b4622093-7bf0-47e1-9d93-d1e17bd26f74",
   "metadata": {},
   "outputs": [
    {
     "ename": "FileNotFoundError",
     "evalue": "[Errno 2] No such file or directory: 'qmlp-az-run_run1-layer2_Angle_Angle_all_attacks.csv'",
     "output_type": "error",
     "traceback": [
      "\u001b[31m---------------------------------------------------------------------------\u001b[39m",
      "\u001b[31mFileNotFoundError\u001b[39m                         Traceback (most recent call last)",
      "\u001b[36mCell\u001b[39m\u001b[36m \u001b[39m\u001b[32mIn[20]\u001b[39m\u001b[32m, line 6\u001b[39m\n\u001b[32m      1\u001b[39m csv_files = [\n\u001b[32m      2\u001b[39m     \u001b[33m'\u001b[39m\u001b[33mqmlp-az-run_run1-layer2_Angle_Angle_all_attacks.csv\u001b[39m\u001b[33m'\u001b[39m,\n\u001b[32m      3\u001b[39m     \u001b[33m'\u001b[39m\u001b[33mqmlp-az-run_run2-layer2_Angle_Angle_all_attacks.csv\u001b[39m\u001b[33m'\u001b[39m,\n\u001b[32m      4\u001b[39m     \u001b[33m'\u001b[39m\u001b[33mqmlp-az-run_run3-layer2_Angle_Angle_all_attacks.csv\u001b[39m\u001b[33m'\u001b[39m\n\u001b[32m      5\u001b[39m ]\n\u001b[32m----> \u001b[39m\u001b[32m6\u001b[39m df = \u001b[43mload_combine\u001b[49m\u001b[43m(\u001b[49m\u001b[43mcsv_files\u001b[49m\u001b[43m)\u001b[49m\n\u001b[32m      7\u001b[39m \u001b[38;5;28mprint\u001b[39m(\u001b[33m'\u001b[39m\u001b[33mFGSM\u001b[39m\u001b[33m'\u001b[39m)\n\u001b[32m      8\u001b[39m compute_mean_std(\u001b[33m'\u001b[39m\u001b[33mfgsm\u001b[39m\u001b[33m'\u001b[39m,df)\n",
      "\u001b[36mCell\u001b[39m\u001b[36m \u001b[39m\u001b[32mIn[3]\u001b[39m\u001b[32m, line 35\u001b[39m, in \u001b[36mload_combine\u001b[39m\u001b[34m(csv_files)\u001b[39m\n\u001b[32m     33\u001b[39m ndfs = []\n\u001b[32m     34\u001b[39m \u001b[38;5;28;01mfor\u001b[39;00m file \u001b[38;5;129;01min\u001b[39;00m csv_files:\n\u001b[32m---> \u001b[39m\u001b[32m35\u001b[39m     df = \u001b[43mpd\u001b[49m\u001b[43m.\u001b[49m\u001b[43mread_csv\u001b[49m\u001b[43m(\u001b[49m\u001b[43mfile\u001b[49m\u001b[43m)\u001b[49m\n\u001b[32m     36\u001b[39m     ndfs.append(df)\n\u001b[32m     37\u001b[39m combined_df = pd.concat(ndfs, ignore_index=\u001b[38;5;28;01mTrue\u001b[39;00m)  \n",
      "\u001b[36mFile \u001b[39m\u001b[32m/opt/miniconda3/envs/qml-env/lib/python3.11/site-packages/pandas/io/parsers/readers.py:1026\u001b[39m, in \u001b[36mread_csv\u001b[39m\u001b[34m(filepath_or_buffer, sep, delimiter, header, names, index_col, usecols, dtype, engine, converters, true_values, false_values, skipinitialspace, skiprows, skipfooter, nrows, na_values, keep_default_na, na_filter, verbose, skip_blank_lines, parse_dates, infer_datetime_format, keep_date_col, date_parser, date_format, dayfirst, cache_dates, iterator, chunksize, compression, thousands, decimal, lineterminator, quotechar, quoting, doublequote, escapechar, comment, encoding, encoding_errors, dialect, on_bad_lines, delim_whitespace, low_memory, memory_map, float_precision, storage_options, dtype_backend)\u001b[39m\n\u001b[32m   1013\u001b[39m kwds_defaults = _refine_defaults_read(\n\u001b[32m   1014\u001b[39m     dialect,\n\u001b[32m   1015\u001b[39m     delimiter,\n\u001b[32m   (...)\u001b[39m\u001b[32m   1022\u001b[39m     dtype_backend=dtype_backend,\n\u001b[32m   1023\u001b[39m )\n\u001b[32m   1024\u001b[39m kwds.update(kwds_defaults)\n\u001b[32m-> \u001b[39m\u001b[32m1026\u001b[39m \u001b[38;5;28;01mreturn\u001b[39;00m \u001b[43m_read\u001b[49m\u001b[43m(\u001b[49m\u001b[43mfilepath_or_buffer\u001b[49m\u001b[43m,\u001b[49m\u001b[43m \u001b[49m\u001b[43mkwds\u001b[49m\u001b[43m)\u001b[49m\n",
      "\u001b[36mFile \u001b[39m\u001b[32m/opt/miniconda3/envs/qml-env/lib/python3.11/site-packages/pandas/io/parsers/readers.py:620\u001b[39m, in \u001b[36m_read\u001b[39m\u001b[34m(filepath_or_buffer, kwds)\u001b[39m\n\u001b[32m    617\u001b[39m _validate_names(kwds.get(\u001b[33m\"\u001b[39m\u001b[33mnames\u001b[39m\u001b[33m\"\u001b[39m, \u001b[38;5;28;01mNone\u001b[39;00m))\n\u001b[32m    619\u001b[39m \u001b[38;5;66;03m# Create the parser.\u001b[39;00m\n\u001b[32m--> \u001b[39m\u001b[32m620\u001b[39m parser = \u001b[43mTextFileReader\u001b[49m\u001b[43m(\u001b[49m\u001b[43mfilepath_or_buffer\u001b[49m\u001b[43m,\u001b[49m\u001b[43m \u001b[49m\u001b[43m*\u001b[49m\u001b[43m*\u001b[49m\u001b[43mkwds\u001b[49m\u001b[43m)\u001b[49m\n\u001b[32m    622\u001b[39m \u001b[38;5;28;01mif\u001b[39;00m chunksize \u001b[38;5;129;01mor\u001b[39;00m iterator:\n\u001b[32m    623\u001b[39m     \u001b[38;5;28;01mreturn\u001b[39;00m parser\n",
      "\u001b[36mFile \u001b[39m\u001b[32m/opt/miniconda3/envs/qml-env/lib/python3.11/site-packages/pandas/io/parsers/readers.py:1620\u001b[39m, in \u001b[36mTextFileReader.__init__\u001b[39m\u001b[34m(self, f, engine, **kwds)\u001b[39m\n\u001b[32m   1617\u001b[39m     \u001b[38;5;28mself\u001b[39m.options[\u001b[33m\"\u001b[39m\u001b[33mhas_index_names\u001b[39m\u001b[33m\"\u001b[39m] = kwds[\u001b[33m\"\u001b[39m\u001b[33mhas_index_names\u001b[39m\u001b[33m\"\u001b[39m]\n\u001b[32m   1619\u001b[39m \u001b[38;5;28mself\u001b[39m.handles: IOHandles | \u001b[38;5;28;01mNone\u001b[39;00m = \u001b[38;5;28;01mNone\u001b[39;00m\n\u001b[32m-> \u001b[39m\u001b[32m1620\u001b[39m \u001b[38;5;28mself\u001b[39m._engine = \u001b[38;5;28;43mself\u001b[39;49m\u001b[43m.\u001b[49m\u001b[43m_make_engine\u001b[49m\u001b[43m(\u001b[49m\u001b[43mf\u001b[49m\u001b[43m,\u001b[49m\u001b[43m \u001b[49m\u001b[38;5;28;43mself\u001b[39;49m\u001b[43m.\u001b[49m\u001b[43mengine\u001b[49m\u001b[43m)\u001b[49m\n",
      "\u001b[36mFile \u001b[39m\u001b[32m/opt/miniconda3/envs/qml-env/lib/python3.11/site-packages/pandas/io/parsers/readers.py:1880\u001b[39m, in \u001b[36mTextFileReader._make_engine\u001b[39m\u001b[34m(self, f, engine)\u001b[39m\n\u001b[32m   1878\u001b[39m     \u001b[38;5;28;01mif\u001b[39;00m \u001b[33m\"\u001b[39m\u001b[33mb\u001b[39m\u001b[33m\"\u001b[39m \u001b[38;5;129;01mnot\u001b[39;00m \u001b[38;5;129;01min\u001b[39;00m mode:\n\u001b[32m   1879\u001b[39m         mode += \u001b[33m\"\u001b[39m\u001b[33mb\u001b[39m\u001b[33m\"\u001b[39m\n\u001b[32m-> \u001b[39m\u001b[32m1880\u001b[39m \u001b[38;5;28mself\u001b[39m.handles = \u001b[43mget_handle\u001b[49m\u001b[43m(\u001b[49m\n\u001b[32m   1881\u001b[39m \u001b[43m    \u001b[49m\u001b[43mf\u001b[49m\u001b[43m,\u001b[49m\n\u001b[32m   1882\u001b[39m \u001b[43m    \u001b[49m\u001b[43mmode\u001b[49m\u001b[43m,\u001b[49m\n\u001b[32m   1883\u001b[39m \u001b[43m    \u001b[49m\u001b[43mencoding\u001b[49m\u001b[43m=\u001b[49m\u001b[38;5;28;43mself\u001b[39;49m\u001b[43m.\u001b[49m\u001b[43moptions\u001b[49m\u001b[43m.\u001b[49m\u001b[43mget\u001b[49m\u001b[43m(\u001b[49m\u001b[33;43m\"\u001b[39;49m\u001b[33;43mencoding\u001b[39;49m\u001b[33;43m\"\u001b[39;49m\u001b[43m,\u001b[49m\u001b[43m \u001b[49m\u001b[38;5;28;43;01mNone\u001b[39;49;00m\u001b[43m)\u001b[49m\u001b[43m,\u001b[49m\n\u001b[32m   1884\u001b[39m \u001b[43m    \u001b[49m\u001b[43mcompression\u001b[49m\u001b[43m=\u001b[49m\u001b[38;5;28;43mself\u001b[39;49m\u001b[43m.\u001b[49m\u001b[43moptions\u001b[49m\u001b[43m.\u001b[49m\u001b[43mget\u001b[49m\u001b[43m(\u001b[49m\u001b[33;43m\"\u001b[39;49m\u001b[33;43mcompression\u001b[39;49m\u001b[33;43m\"\u001b[39;49m\u001b[43m,\u001b[49m\u001b[43m \u001b[49m\u001b[38;5;28;43;01mNone\u001b[39;49;00m\u001b[43m)\u001b[49m\u001b[43m,\u001b[49m\n\u001b[32m   1885\u001b[39m \u001b[43m    \u001b[49m\u001b[43mmemory_map\u001b[49m\u001b[43m=\u001b[49m\u001b[38;5;28;43mself\u001b[39;49m\u001b[43m.\u001b[49m\u001b[43moptions\u001b[49m\u001b[43m.\u001b[49m\u001b[43mget\u001b[49m\u001b[43m(\u001b[49m\u001b[33;43m\"\u001b[39;49m\u001b[33;43mmemory_map\u001b[39;49m\u001b[33;43m\"\u001b[39;49m\u001b[43m,\u001b[49m\u001b[43m \u001b[49m\u001b[38;5;28;43;01mFalse\u001b[39;49;00m\u001b[43m)\u001b[49m\u001b[43m,\u001b[49m\n\u001b[32m   1886\u001b[39m \u001b[43m    \u001b[49m\u001b[43mis_text\u001b[49m\u001b[43m=\u001b[49m\u001b[43mis_text\u001b[49m\u001b[43m,\u001b[49m\n\u001b[32m   1887\u001b[39m \u001b[43m    \u001b[49m\u001b[43merrors\u001b[49m\u001b[43m=\u001b[49m\u001b[38;5;28;43mself\u001b[39;49m\u001b[43m.\u001b[49m\u001b[43moptions\u001b[49m\u001b[43m.\u001b[49m\u001b[43mget\u001b[49m\u001b[43m(\u001b[49m\u001b[33;43m\"\u001b[39;49m\u001b[33;43mencoding_errors\u001b[39;49m\u001b[33;43m\"\u001b[39;49m\u001b[43m,\u001b[49m\u001b[43m \u001b[49m\u001b[33;43m\"\u001b[39;49m\u001b[33;43mstrict\u001b[39;49m\u001b[33;43m\"\u001b[39;49m\u001b[43m)\u001b[49m\u001b[43m,\u001b[49m\n\u001b[32m   1888\u001b[39m \u001b[43m    \u001b[49m\u001b[43mstorage_options\u001b[49m\u001b[43m=\u001b[49m\u001b[38;5;28;43mself\u001b[39;49m\u001b[43m.\u001b[49m\u001b[43moptions\u001b[49m\u001b[43m.\u001b[49m\u001b[43mget\u001b[49m\u001b[43m(\u001b[49m\u001b[33;43m\"\u001b[39;49m\u001b[33;43mstorage_options\u001b[39;49m\u001b[33;43m\"\u001b[39;49m\u001b[43m,\u001b[49m\u001b[43m \u001b[49m\u001b[38;5;28;43;01mNone\u001b[39;49;00m\u001b[43m)\u001b[49m\u001b[43m,\u001b[49m\n\u001b[32m   1889\u001b[39m \u001b[43m\u001b[49m\u001b[43m)\u001b[49m\n\u001b[32m   1890\u001b[39m \u001b[38;5;28;01massert\u001b[39;00m \u001b[38;5;28mself\u001b[39m.handles \u001b[38;5;129;01mis\u001b[39;00m \u001b[38;5;129;01mnot\u001b[39;00m \u001b[38;5;28;01mNone\u001b[39;00m\n\u001b[32m   1891\u001b[39m f = \u001b[38;5;28mself\u001b[39m.handles.handle\n",
      "\u001b[36mFile \u001b[39m\u001b[32m/opt/miniconda3/envs/qml-env/lib/python3.11/site-packages/pandas/io/common.py:873\u001b[39m, in \u001b[36mget_handle\u001b[39m\u001b[34m(path_or_buf, mode, encoding, compression, memory_map, is_text, errors, storage_options)\u001b[39m\n\u001b[32m    868\u001b[39m \u001b[38;5;28;01melif\u001b[39;00m \u001b[38;5;28misinstance\u001b[39m(handle, \u001b[38;5;28mstr\u001b[39m):\n\u001b[32m    869\u001b[39m     \u001b[38;5;66;03m# Check whether the filename is to be opened in binary mode.\u001b[39;00m\n\u001b[32m    870\u001b[39m     \u001b[38;5;66;03m# Binary mode does not support 'encoding' and 'newline'.\u001b[39;00m\n\u001b[32m    871\u001b[39m     \u001b[38;5;28;01mif\u001b[39;00m ioargs.encoding \u001b[38;5;129;01mand\u001b[39;00m \u001b[33m\"\u001b[39m\u001b[33mb\u001b[39m\u001b[33m\"\u001b[39m \u001b[38;5;129;01mnot\u001b[39;00m \u001b[38;5;129;01min\u001b[39;00m ioargs.mode:\n\u001b[32m    872\u001b[39m         \u001b[38;5;66;03m# Encoding\u001b[39;00m\n\u001b[32m--> \u001b[39m\u001b[32m873\u001b[39m         handle = \u001b[38;5;28mopen\u001b[39m(\n\u001b[32m    874\u001b[39m             handle,\n\u001b[32m    875\u001b[39m             ioargs.mode,\n\u001b[32m    876\u001b[39m             encoding=ioargs.encoding,\n\u001b[32m    877\u001b[39m             errors=errors,\n\u001b[32m    878\u001b[39m             newline=\u001b[33m\"\u001b[39m\u001b[33m\"\u001b[39m,\n\u001b[32m    879\u001b[39m         )\n\u001b[32m    880\u001b[39m     \u001b[38;5;28;01melse\u001b[39;00m:\n\u001b[32m    881\u001b[39m         \u001b[38;5;66;03m# Binary mode\u001b[39;00m\n\u001b[32m    882\u001b[39m         handle = \u001b[38;5;28mopen\u001b[39m(handle, ioargs.mode)\n",
      "\u001b[31mFileNotFoundError\u001b[39m: [Errno 2] No such file or directory: 'qmlp-az-run_run1-layer2_Angle_Angle_all_attacks.csv'"
     ]
    }
   ],
   "source": [
    "csv_files = [\n",
    "    'qmlp-az-run_run1-layer2_Angle_Angle_all_attacks.csv',\n",
    "    'qmlp-az-run_run2-layer2_Angle_Angle_all_attacks.csv',\n",
    "    'qmlp-az-run_run3-layer2_Angle_Angle_all_attacks.csv'\n",
    "]\n",
    "df = load_combine(csv_files)\n",
    "print('FGSM')\n",
    "compute_mean_std('fgsm',df)\n",
    "print('PGD')\n",
    "compute_mean_std('pgd',df)"
   ]
  },
  {
   "cell_type": "code",
   "execution_count": 12,
   "id": "bd0980b6-3c3e-4d1c-9253-a2204109afa2",
   "metadata": {},
   "outputs": [
    {
     "ename": "FileNotFoundError",
     "evalue": "[Errno 2] No such file or directory: 'qmlp-az-run_run1-layer10_Angle_Angle_all_attacks.csv'",
     "output_type": "error",
     "traceback": [
      "\u001b[31m---------------------------------------------------------------------------\u001b[39m",
      "\u001b[31mFileNotFoundError\u001b[39m                         Traceback (most recent call last)",
      "\u001b[36mCell\u001b[39m\u001b[36m \u001b[39m\u001b[32mIn[12]\u001b[39m\u001b[32m, line 6\u001b[39m\n\u001b[32m      1\u001b[39m csv_files = [\n\u001b[32m      2\u001b[39m     \u001b[33m'\u001b[39m\u001b[33mqmlp-az-run_run1-layer10_Angle_Angle_all_attacks.csv\u001b[39m\u001b[33m'\u001b[39m,\n\u001b[32m      3\u001b[39m     \u001b[33m'\u001b[39m\u001b[33mqmlp-az-run_run2-layer10_Angle_Angle_all_attacks.csv\u001b[39m\u001b[33m'\u001b[39m,\n\u001b[32m      4\u001b[39m     \u001b[33m'\u001b[39m\u001b[33mqmlp-az-run_run3-layer10_Angle_Angle_all_attacks.csv\u001b[39m\u001b[33m'\u001b[39m\n\u001b[32m      5\u001b[39m ]\n\u001b[32m----> \u001b[39m\u001b[32m6\u001b[39m df = \u001b[43mload_combine\u001b[49m\u001b[43m(\u001b[49m\u001b[43mcsv_files\u001b[49m\u001b[43m)\u001b[49m\n\u001b[32m      7\u001b[39m \u001b[38;5;28mprint\u001b[39m(\u001b[33m'\u001b[39m\u001b[33mFGSM\u001b[39m\u001b[33m'\u001b[39m)\n\u001b[32m      8\u001b[39m compute_mean_std(\u001b[33m'\u001b[39m\u001b[33mfgsm\u001b[39m\u001b[33m'\u001b[39m,df)\n",
      "\u001b[36mCell\u001b[39m\u001b[36m \u001b[39m\u001b[32mIn[3]\u001b[39m\u001b[32m, line 35\u001b[39m, in \u001b[36mload_combine\u001b[39m\u001b[34m(csv_files)\u001b[39m\n\u001b[32m     33\u001b[39m ndfs = []\n\u001b[32m     34\u001b[39m \u001b[38;5;28;01mfor\u001b[39;00m file \u001b[38;5;129;01min\u001b[39;00m csv_files:\n\u001b[32m---> \u001b[39m\u001b[32m35\u001b[39m     df = \u001b[43mpd\u001b[49m\u001b[43m.\u001b[49m\u001b[43mread_csv\u001b[49m\u001b[43m(\u001b[49m\u001b[43mfile\u001b[49m\u001b[43m)\u001b[49m\n\u001b[32m     36\u001b[39m     ndfs.append(df)\n\u001b[32m     37\u001b[39m combined_df = pd.concat(ndfs, ignore_index=\u001b[38;5;28;01mTrue\u001b[39;00m)  \n",
      "\u001b[36mFile \u001b[39m\u001b[32m/opt/miniconda3/envs/qml-env/lib/python3.11/site-packages/pandas/io/parsers/readers.py:1026\u001b[39m, in \u001b[36mread_csv\u001b[39m\u001b[34m(filepath_or_buffer, sep, delimiter, header, names, index_col, usecols, dtype, engine, converters, true_values, false_values, skipinitialspace, skiprows, skipfooter, nrows, na_values, keep_default_na, na_filter, verbose, skip_blank_lines, parse_dates, infer_datetime_format, keep_date_col, date_parser, date_format, dayfirst, cache_dates, iterator, chunksize, compression, thousands, decimal, lineterminator, quotechar, quoting, doublequote, escapechar, comment, encoding, encoding_errors, dialect, on_bad_lines, delim_whitespace, low_memory, memory_map, float_precision, storage_options, dtype_backend)\u001b[39m\n\u001b[32m   1013\u001b[39m kwds_defaults = _refine_defaults_read(\n\u001b[32m   1014\u001b[39m     dialect,\n\u001b[32m   1015\u001b[39m     delimiter,\n\u001b[32m   (...)\u001b[39m\u001b[32m   1022\u001b[39m     dtype_backend=dtype_backend,\n\u001b[32m   1023\u001b[39m )\n\u001b[32m   1024\u001b[39m kwds.update(kwds_defaults)\n\u001b[32m-> \u001b[39m\u001b[32m1026\u001b[39m \u001b[38;5;28;01mreturn\u001b[39;00m \u001b[43m_read\u001b[49m\u001b[43m(\u001b[49m\u001b[43mfilepath_or_buffer\u001b[49m\u001b[43m,\u001b[49m\u001b[43m \u001b[49m\u001b[43mkwds\u001b[49m\u001b[43m)\u001b[49m\n",
      "\u001b[36mFile \u001b[39m\u001b[32m/opt/miniconda3/envs/qml-env/lib/python3.11/site-packages/pandas/io/parsers/readers.py:620\u001b[39m, in \u001b[36m_read\u001b[39m\u001b[34m(filepath_or_buffer, kwds)\u001b[39m\n\u001b[32m    617\u001b[39m _validate_names(kwds.get(\u001b[33m\"\u001b[39m\u001b[33mnames\u001b[39m\u001b[33m\"\u001b[39m, \u001b[38;5;28;01mNone\u001b[39;00m))\n\u001b[32m    619\u001b[39m \u001b[38;5;66;03m# Create the parser.\u001b[39;00m\n\u001b[32m--> \u001b[39m\u001b[32m620\u001b[39m parser = \u001b[43mTextFileReader\u001b[49m\u001b[43m(\u001b[49m\u001b[43mfilepath_or_buffer\u001b[49m\u001b[43m,\u001b[49m\u001b[43m \u001b[49m\u001b[43m*\u001b[49m\u001b[43m*\u001b[49m\u001b[43mkwds\u001b[49m\u001b[43m)\u001b[49m\n\u001b[32m    622\u001b[39m \u001b[38;5;28;01mif\u001b[39;00m chunksize \u001b[38;5;129;01mor\u001b[39;00m iterator:\n\u001b[32m    623\u001b[39m     \u001b[38;5;28;01mreturn\u001b[39;00m parser\n",
      "\u001b[36mFile \u001b[39m\u001b[32m/opt/miniconda3/envs/qml-env/lib/python3.11/site-packages/pandas/io/parsers/readers.py:1620\u001b[39m, in \u001b[36mTextFileReader.__init__\u001b[39m\u001b[34m(self, f, engine, **kwds)\u001b[39m\n\u001b[32m   1617\u001b[39m     \u001b[38;5;28mself\u001b[39m.options[\u001b[33m\"\u001b[39m\u001b[33mhas_index_names\u001b[39m\u001b[33m\"\u001b[39m] = kwds[\u001b[33m\"\u001b[39m\u001b[33mhas_index_names\u001b[39m\u001b[33m\"\u001b[39m]\n\u001b[32m   1619\u001b[39m \u001b[38;5;28mself\u001b[39m.handles: IOHandles | \u001b[38;5;28;01mNone\u001b[39;00m = \u001b[38;5;28;01mNone\u001b[39;00m\n\u001b[32m-> \u001b[39m\u001b[32m1620\u001b[39m \u001b[38;5;28mself\u001b[39m._engine = \u001b[38;5;28;43mself\u001b[39;49m\u001b[43m.\u001b[49m\u001b[43m_make_engine\u001b[49m\u001b[43m(\u001b[49m\u001b[43mf\u001b[49m\u001b[43m,\u001b[49m\u001b[43m \u001b[49m\u001b[38;5;28;43mself\u001b[39;49m\u001b[43m.\u001b[49m\u001b[43mengine\u001b[49m\u001b[43m)\u001b[49m\n",
      "\u001b[36mFile \u001b[39m\u001b[32m/opt/miniconda3/envs/qml-env/lib/python3.11/site-packages/pandas/io/parsers/readers.py:1880\u001b[39m, in \u001b[36mTextFileReader._make_engine\u001b[39m\u001b[34m(self, f, engine)\u001b[39m\n\u001b[32m   1878\u001b[39m     \u001b[38;5;28;01mif\u001b[39;00m \u001b[33m\"\u001b[39m\u001b[33mb\u001b[39m\u001b[33m\"\u001b[39m \u001b[38;5;129;01mnot\u001b[39;00m \u001b[38;5;129;01min\u001b[39;00m mode:\n\u001b[32m   1879\u001b[39m         mode += \u001b[33m\"\u001b[39m\u001b[33mb\u001b[39m\u001b[33m\"\u001b[39m\n\u001b[32m-> \u001b[39m\u001b[32m1880\u001b[39m \u001b[38;5;28mself\u001b[39m.handles = \u001b[43mget_handle\u001b[49m\u001b[43m(\u001b[49m\n\u001b[32m   1881\u001b[39m \u001b[43m    \u001b[49m\u001b[43mf\u001b[49m\u001b[43m,\u001b[49m\n\u001b[32m   1882\u001b[39m \u001b[43m    \u001b[49m\u001b[43mmode\u001b[49m\u001b[43m,\u001b[49m\n\u001b[32m   1883\u001b[39m \u001b[43m    \u001b[49m\u001b[43mencoding\u001b[49m\u001b[43m=\u001b[49m\u001b[38;5;28;43mself\u001b[39;49m\u001b[43m.\u001b[49m\u001b[43moptions\u001b[49m\u001b[43m.\u001b[49m\u001b[43mget\u001b[49m\u001b[43m(\u001b[49m\u001b[33;43m\"\u001b[39;49m\u001b[33;43mencoding\u001b[39;49m\u001b[33;43m\"\u001b[39;49m\u001b[43m,\u001b[49m\u001b[43m \u001b[49m\u001b[38;5;28;43;01mNone\u001b[39;49;00m\u001b[43m)\u001b[49m\u001b[43m,\u001b[49m\n\u001b[32m   1884\u001b[39m \u001b[43m    \u001b[49m\u001b[43mcompression\u001b[49m\u001b[43m=\u001b[49m\u001b[38;5;28;43mself\u001b[39;49m\u001b[43m.\u001b[49m\u001b[43moptions\u001b[49m\u001b[43m.\u001b[49m\u001b[43mget\u001b[49m\u001b[43m(\u001b[49m\u001b[33;43m\"\u001b[39;49m\u001b[33;43mcompression\u001b[39;49m\u001b[33;43m\"\u001b[39;49m\u001b[43m,\u001b[49m\u001b[43m \u001b[49m\u001b[38;5;28;43;01mNone\u001b[39;49;00m\u001b[43m)\u001b[49m\u001b[43m,\u001b[49m\n\u001b[32m   1885\u001b[39m \u001b[43m    \u001b[49m\u001b[43mmemory_map\u001b[49m\u001b[43m=\u001b[49m\u001b[38;5;28;43mself\u001b[39;49m\u001b[43m.\u001b[49m\u001b[43moptions\u001b[49m\u001b[43m.\u001b[49m\u001b[43mget\u001b[49m\u001b[43m(\u001b[49m\u001b[33;43m\"\u001b[39;49m\u001b[33;43mmemory_map\u001b[39;49m\u001b[33;43m\"\u001b[39;49m\u001b[43m,\u001b[49m\u001b[43m \u001b[49m\u001b[38;5;28;43;01mFalse\u001b[39;49;00m\u001b[43m)\u001b[49m\u001b[43m,\u001b[49m\n\u001b[32m   1886\u001b[39m \u001b[43m    \u001b[49m\u001b[43mis_text\u001b[49m\u001b[43m=\u001b[49m\u001b[43mis_text\u001b[49m\u001b[43m,\u001b[49m\n\u001b[32m   1887\u001b[39m \u001b[43m    \u001b[49m\u001b[43merrors\u001b[49m\u001b[43m=\u001b[49m\u001b[38;5;28;43mself\u001b[39;49m\u001b[43m.\u001b[49m\u001b[43moptions\u001b[49m\u001b[43m.\u001b[49m\u001b[43mget\u001b[49m\u001b[43m(\u001b[49m\u001b[33;43m\"\u001b[39;49m\u001b[33;43mencoding_errors\u001b[39;49m\u001b[33;43m\"\u001b[39;49m\u001b[43m,\u001b[49m\u001b[43m \u001b[49m\u001b[33;43m\"\u001b[39;49m\u001b[33;43mstrict\u001b[39;49m\u001b[33;43m\"\u001b[39;49m\u001b[43m)\u001b[49m\u001b[43m,\u001b[49m\n\u001b[32m   1888\u001b[39m \u001b[43m    \u001b[49m\u001b[43mstorage_options\u001b[49m\u001b[43m=\u001b[49m\u001b[38;5;28;43mself\u001b[39;49m\u001b[43m.\u001b[49m\u001b[43moptions\u001b[49m\u001b[43m.\u001b[49m\u001b[43mget\u001b[49m\u001b[43m(\u001b[49m\u001b[33;43m\"\u001b[39;49m\u001b[33;43mstorage_options\u001b[39;49m\u001b[33;43m\"\u001b[39;49m\u001b[43m,\u001b[49m\u001b[43m \u001b[49m\u001b[38;5;28;43;01mNone\u001b[39;49;00m\u001b[43m)\u001b[49m\u001b[43m,\u001b[49m\n\u001b[32m   1889\u001b[39m \u001b[43m\u001b[49m\u001b[43m)\u001b[49m\n\u001b[32m   1890\u001b[39m \u001b[38;5;28;01massert\u001b[39;00m \u001b[38;5;28mself\u001b[39m.handles \u001b[38;5;129;01mis\u001b[39;00m \u001b[38;5;129;01mnot\u001b[39;00m \u001b[38;5;28;01mNone\u001b[39;00m\n\u001b[32m   1891\u001b[39m f = \u001b[38;5;28mself\u001b[39m.handles.handle\n",
      "\u001b[36mFile \u001b[39m\u001b[32m/opt/miniconda3/envs/qml-env/lib/python3.11/site-packages/pandas/io/common.py:873\u001b[39m, in \u001b[36mget_handle\u001b[39m\u001b[34m(path_or_buf, mode, encoding, compression, memory_map, is_text, errors, storage_options)\u001b[39m\n\u001b[32m    868\u001b[39m \u001b[38;5;28;01melif\u001b[39;00m \u001b[38;5;28misinstance\u001b[39m(handle, \u001b[38;5;28mstr\u001b[39m):\n\u001b[32m    869\u001b[39m     \u001b[38;5;66;03m# Check whether the filename is to be opened in binary mode.\u001b[39;00m\n\u001b[32m    870\u001b[39m     \u001b[38;5;66;03m# Binary mode does not support 'encoding' and 'newline'.\u001b[39;00m\n\u001b[32m    871\u001b[39m     \u001b[38;5;28;01mif\u001b[39;00m ioargs.encoding \u001b[38;5;129;01mand\u001b[39;00m \u001b[33m\"\u001b[39m\u001b[33mb\u001b[39m\u001b[33m\"\u001b[39m \u001b[38;5;129;01mnot\u001b[39;00m \u001b[38;5;129;01min\u001b[39;00m ioargs.mode:\n\u001b[32m    872\u001b[39m         \u001b[38;5;66;03m# Encoding\u001b[39;00m\n\u001b[32m--> \u001b[39m\u001b[32m873\u001b[39m         handle = \u001b[38;5;28mopen\u001b[39m(\n\u001b[32m    874\u001b[39m             handle,\n\u001b[32m    875\u001b[39m             ioargs.mode,\n\u001b[32m    876\u001b[39m             encoding=ioargs.encoding,\n\u001b[32m    877\u001b[39m             errors=errors,\n\u001b[32m    878\u001b[39m             newline=\u001b[33m\"\u001b[39m\u001b[33m\"\u001b[39m,\n\u001b[32m    879\u001b[39m         )\n\u001b[32m    880\u001b[39m     \u001b[38;5;28;01melse\u001b[39;00m:\n\u001b[32m    881\u001b[39m         \u001b[38;5;66;03m# Binary mode\u001b[39;00m\n\u001b[32m    882\u001b[39m         handle = \u001b[38;5;28mopen\u001b[39m(handle, ioargs.mode)\n",
      "\u001b[31mFileNotFoundError\u001b[39m: [Errno 2] No such file or directory: 'qmlp-az-run_run1-layer10_Angle_Angle_all_attacks.csv'"
     ]
    }
   ],
   "source": [
    "csv_files = [\n",
    "    'qmlp-az-run_run1-layer10_Angle_Angle_all_attacks.csv',\n",
    "    'qmlp-az-run_run2-layer10_Angle_Angle_all_attacks.csv',\n",
    "    'qmlp-az-run_run3-layer10_Angle_Angle_all_attacks.csv'\n",
    "]\n",
    "df = load_combine(csv_files)\n",
    "print('FGSM')\n",
    "compute_mean_std('fgsm',df)\n",
    "print('PGD')\n",
    "compute_mean_std('pgd',df)"
   ]
  },
  {
   "cell_type": "code",
   "execution_count": 13,
   "id": "1229f22e-5699-4977-9d37-55f57f740427",
   "metadata": {},
   "outputs": [
    {
     "name": "stdout",
     "output_type": "stream",
     "text": [
      "FGSM\n",
      "PGD\n"
     ]
    },
    {
     "data": {
      "text/plain": [
       "{0.0:       accuracy     f1   fpr    fnr\n",
       " mean     65.93  65.05  3.79  34.68\n",
       " std       1.04   1.03  0.12   1.12,\n",
       " 0.01:       accuracy     f1   fpr    fnr\n",
       " mean     30.06  35.11  7.71  68.79\n",
       " std       0.27   1.63  0.03   0.28,\n",
       " 0.1:       accuracy    f1    fpr    fnr\n",
       " mean      2.36  2.04  10.78  97.46\n",
       " std       0.12  0.14   0.01   0.13,\n",
       " 0.15:       accuracy    f1    fpr    fnr\n",
       " mean      0.50  0.21  10.99  99.46\n",
       " std       0.03  0.04   0.01   0.03}"
      ]
     },
     "execution_count": 13,
     "metadata": {},
     "output_type": "execute_result"
    }
   ],
   "source": [
    "# qmlp-mnist-run_run1-layer2_Angle_all_attacks.csv\n",
    "csv_files = [\n",
    "    'qmlp-mnist-run_run1-layer2_Angle_all_attacks.csv',\n",
    "    'qmlp-mnist-run_run2-layer2_Angle_all_attacks.csv',\n",
    "    'qmlp-mnist-run_run3-layer2_Angle_all_attacks.csv'\n",
    "]\n",
    "df = load_combine(csv_files)\n",
    "print('FGSM')\n",
    "compute_mean_std('fgsm',df)\n",
    "print('PGD')\n",
    "compute_mean_std('pgd',df)"
   ]
  },
  {
   "cell_type": "code",
   "execution_count": 14,
   "id": "5b23e793-2976-4e3e-88af-439aa0e61188",
   "metadata": {},
   "outputs": [
    {
     "name": "stdout",
     "output_type": "stream",
     "text": [
      "FGSM\n",
      "PGD\n"
     ]
    },
    {
     "data": {
      "text/plain": [
       "{0.0:       accuracy     f1   fpr    fnr\n",
       " mean     71.72  71.16  3.14  28.80\n",
       " std       1.80   1.81  0.20   1.86,\n",
       " 0.01:       accuracy     f1   fpr    fnr\n",
       " mean     26.27  33.17  8.13  72.69\n",
       " std       3.62   2.37  0.39   3.51,\n",
       " 0.1:       accuracy    f1    fpr    fnr\n",
       " mean      2.62  1.87  10.75  97.21\n",
       " std       0.61  0.22   0.08   0.67,\n",
       " 0.15:       accuracy    f1    fpr    fnr\n",
       " mean      0.64  0.34  10.98  99.32\n",
       " std       0.28  0.17   0.04   0.31}"
      ]
     },
     "execution_count": 14,
     "metadata": {},
     "output_type": "execute_result"
    }
   ],
   "source": [
    "csv_files = [\n",
    "    'qmlp-mnist-run_run1-layer10_Angle_all_attacks.csv',\n",
    "    'qmlp-mnist-run_run2-layer10_Angle_all_attacks.csv',\n",
    "    'qmlp-mnist-run_run3-layer10_Angle_all_attacks.csv'\n",
    "]\n",
    "df = load_combine(csv_files)\n",
    "print('FGSM')\n",
    "compute_mean_std('fgsm',df)\n",
    "print('PGD')\n",
    "compute_mean_std('pgd',df)"
   ]
  },
  {
   "cell_type": "code",
   "execution_count": 15,
   "id": "b2424669-370c-4959-b497-f837ae208479",
   "metadata": {},
   "outputs": [
    {
     "name": "stdout",
     "output_type": "stream",
     "text": [
      "FGSM\n",
      "PGD\n"
     ]
    },
    {
     "data": {
      "text/plain": [
       "{0.0:       accuracy     f1   fpr    fnr\n",
       " mean     76.89  76.61  2.57  23.46\n",
       " std       0.43   0.35  0.05   0.43,\n",
       " 0.01:       accuracy     f1   fpr    fnr\n",
       " mean     25.37  32.71  8.23  73.60\n",
       " std       0.34   1.88  0.04   0.39,\n",
       " 0.1:       accuracy    f1    fpr    fnr\n",
       " mean      2.56  2.82  10.75  97.35\n",
       " std       0.10  0.20   0.00   0.08,\n",
       " 0.15:       accuracy    f1    fpr    fnr\n",
       " mean      0.73  0.65  10.97  99.24\n",
       " std       0.12  0.14   0.02   0.12}"
      ]
     },
     "execution_count": 15,
     "metadata": {},
     "output_type": "execute_result"
    }
   ],
   "source": [
    "csv_files = [\n",
    "    'qmlp-mnist-run_run1-layer50_Angle_all_attacks.csv',\n",
    "    'qmlp-mnist-run_run2-layer50_Angle_all_attacks.csv',\n",
    "    'qmlp-mnist-run_run3-layer50_Angle_all_attacks.csv'\n",
    "]\n",
    "df = load_combine(csv_files)\n",
    "print('FGSM')\n",
    "compute_mean_std('fgsm',df)\n",
    "print('PGD')\n",
    "compute_mean_std('pgd',df)"
   ]
  },
  {
   "cell_type": "code",
   "execution_count": 16,
   "id": "f603e1c3-1ca1-47a6-acbe-3a16f2b50efd",
   "metadata": {},
   "outputs": [
    {
     "name": "stdout",
     "output_type": "stream",
     "text": [
      "FGSM\n",
      "PGD\n"
     ]
    },
    {
     "data": {
      "text/plain": [
       "{0.0:       accuracy     f1   fpr   fnr\n",
       " mean     92.64  92.56  0.82  7.44\n",
       " std       0.49   0.51  0.05  0.52,\n",
       " 0.01:       accuracy     f1   fpr    fnr\n",
       " mean     21.92  26.13  8.67  77.90\n",
       " std       1.72   2.17  0.20   1.71,\n",
       " 0.1:       accuracy   f1    fpr    fnr\n",
       " mean       0.0  0.0  11.11  100.0\n",
       " std        0.0  0.0   0.01    0.0,\n",
       " 0.15:       accuracy   f1    fpr    fnr\n",
       " mean       0.0  0.0  11.11  100.0\n",
       " std        0.0  0.0   0.01    0.0}"
      ]
     },
     "execution_count": 16,
     "metadata": {},
     "output_type": "execute_result"
    }
   ],
   "source": [
    "csv_files = [\n",
    "    'qmlp-mnist-run_run1-layer50_Amplitude_all_attacks.csv',\n",
    "    'qmlp-mnist-run_run2-layer50_Amplitude_all_attacks.csv',\n",
    "    'qmlp-mnist-run_run3-layer50_Amplitude_all_attacks.csv'\n",
    "]\n",
    "df = load_combine(csv_files)\n",
    "print('FGSM')\n",
    "compute_mean_std('fgsm',df)\n",
    "print('PGD')\n",
    "compute_mean_std('pgd',df)"
   ]
  },
  {
   "cell_type": "code",
   "execution_count": 17,
   "id": "7672960a-c09c-4441-98a5-75c3df9c164a",
   "metadata": {},
   "outputs": [
    {
     "name": "stdout",
     "output_type": "stream",
     "text": [
      "FGSM\n",
      "PGD\n"
     ]
    },
    {
     "data": {
      "text/plain": [
       "{0.0:       accuracy     f1   fpr    fnr\n",
       " mean     79.82  79.56  2.24  20.47\n",
       " std       1.03   1.10  0.11   1.07,\n",
       " 0.01:       accuracy     f1   fpr    fnr\n",
       " mean     19.20  21.38  8.97  80.69\n",
       " std       3.37   5.19  0.37   3.37,\n",
       " 0.1:       accuracy    f1    fpr    fnr\n",
       " mean      0.10  0.06  11.09  99.90\n",
       " std       0.15  0.09   0.01   0.15,\n",
       " 0.15:       accuracy   f1    fpr    fnr\n",
       " mean       0.0  0.0  11.10  100.0\n",
       " std        0.0  0.0   0.01    0.0}"
      ]
     },
     "execution_count": 17,
     "metadata": {},
     "output_type": "execute_result"
    }
   ],
   "source": [
    "csv_files = [\n",
    "    'qmlp-mnist-run_run1-layer10_Amplitude_all_attacks.csv',\n",
    "    'qmlp-mnist-run_run2-layer10_Amplitude_all_attacks.csv',\n",
    "    'qmlp-mnist-run_run3-layer10_Amplitude_all_attacks.csv'\n",
    "]\n",
    "df = load_combine(csv_files)\n",
    "print('FGSM')\n",
    "compute_mean_std('fgsm',df)\n",
    "print('PGD')\n",
    "compute_mean_std('pgd',df)"
   ]
  },
  {
   "cell_type": "code",
   "execution_count": 18,
   "id": "1c950add-2353-4a10-a389-fea3a49823b4",
   "metadata": {},
   "outputs": [
    {
     "name": "stdout",
     "output_type": "stream",
     "text": [
      "FGSM\n",
      "PGD\n"
     ]
    },
    {
     "data": {
      "text/plain": [
       "{0.0:       accuracy     f1   fpr    fnr\n",
       " mean     65.93  65.05  3.79  34.68\n",
       " std       1.04   1.03  0.12   1.12,\n",
       " 0.01:       accuracy     f1   fpr    fnr\n",
       " mean     29.94  34.98  7.72  68.92\n",
       " std       0.27   1.54  0.03   0.27,\n",
       " 0.1:       accuracy    f1    fpr    fnr\n",
       " mean      2.38  2.03  10.78  97.43\n",
       " std       0.03  0.09   0.01   0.03,\n",
       " 0.15:       accuracy    f1    fpr    fnr\n",
       " mean      0.48  0.27  10.99  99.47\n",
       " std       0.09  0.11   0.01   0.09}"
      ]
     },
     "execution_count": 18,
     "metadata": {},
     "output_type": "execute_result"
    }
   ],
   "source": [
    "csv_files = [\n",
    "    'qmlp-mnist-run_run1-layer2_Amplitude_all_attacks.csv',\n",
    "    'qmlp-mnist-run_run2-layer2_Amplitude_all_attacks.csv',\n",
    "    'qmlp-mnist-run_run3-layer2_Amplitude_all_attacks.csv'\n",
    "]\n",
    "df = load_combine(csv_files)\n",
    "print('FGSM')\n",
    "compute_mean_std('fgsm',df)\n",
    "print('PGD')\n",
    "compute_mean_std('pgd',df)"
   ]
  },
  {
   "cell_type": "code",
   "execution_count": 19,
   "id": "527acc7f-ff4f-4cc1-a16a-9a6cfa4c97f9",
   "metadata": {},
   "outputs": [
    {
     "name": "stdout",
     "output_type": "stream",
     "text": [
      "FGSM\n",
      "PGD\n"
     ]
    },
    {
     "data": {
      "text/plain": [
       "{0.0:       accuracy     f1   fpr    fnr\n",
       " mean     32.38  29.45  3.09  69.58\n",
       " std       0.90   1.48  0.04   0.88,\n",
       " 0.01:       accuracy    f1   fpr    fnr\n",
       " mean      4.20  3.50  4.37  96.19\n",
       " std       0.32  0.25  0.02   0.31,\n",
       " 0.1:       accuracy    f1   fpr    fnr\n",
       " mean      1.05  0.69  4.52  99.05\n",
       " std       0.05  0.01  0.00   0.04,\n",
       " 0.15:       accuracy    f1   fpr    fnr\n",
       " mean      0.57  0.38  4.54  99.48\n",
       " std       0.10  0.07  0.01   0.10}"
      ]
     },
     "execution_count": 19,
     "metadata": {},
     "output_type": "execute_result"
    }
   ],
   "source": [
    "csv_files = [\n",
    "    'qmlp-az-run_run1-layer50_Angle_Angle_all_attacks.csv',\n",
    "    'qmlp-az-run_run2-layer50_Angle_Angle_all_attacks.csv',\n",
    "    'qmlp-az-run_run3-layer50_Angle_Angle_all_attacks.csv'\n",
    "]\n",
    "df = load_combine(csv_files)\n",
    "print('FGSM')\n",
    "compute_mean_std('fgsm',df)\n",
    "print('PGD')\n",
    "compute_mean_std('pgd',df)"
   ]
  },
  {
   "cell_type": "code",
   "execution_count": null,
   "id": "1bc3b94d-ec1e-4caa-ad4d-1eb0215f396b",
   "metadata": {},
   "outputs": [],
   "source": []
  },
  {
   "cell_type": "code",
   "execution_count": null,
   "id": "8edfe118-e827-4cac-8eb3-387e42305175",
   "metadata": {},
   "outputs": [],
   "source": []
  }
 ],
 "metadata": {
  "kernelspec": {
   "display_name": "Python 3 (ipykernel)",
   "language": "python",
   "name": "python3"
  },
  "language_info": {
   "codemirror_mode": {
    "name": "ipython",
    "version": 3
   },
   "file_extension": ".py",
   "mimetype": "text/x-python",
   "name": "python",
   "nbconvert_exporter": "python",
   "pygments_lexer": "ipython3",
   "version": "3.11.13"
  }
 },
 "nbformat": 4,
 "nbformat_minor": 5
}
