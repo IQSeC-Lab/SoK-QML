{
 "cells": [
  {
   "cell_type": "code",
   "execution_count": 2,
   "id": "ea6ae295-a53d-45af-aec4-764a33fd32dc",
   "metadata": {},
   "outputs": [
    {
     "name": "stdout",
     "output_type": "stream",
     "text": [
      "Collecting pandas\n",
      "  Downloading pandas-2.3.0-cp311-cp311-macosx_11_0_arm64.whl.metadata (91 kB)\n",
      "Requirement already satisfied: numpy>=1.23.2 in /opt/miniconda3/envs/qml-env/lib/python3.11/site-packages (from pandas) (2.3.0)\n",
      "Requirement already satisfied: python-dateutil>=2.8.2 in /opt/miniconda3/envs/qml-env/lib/python3.11/site-packages (from pandas) (2.9.0.post0)\n",
      "Collecting pytz>=2020.1 (from pandas)\n",
      "  Using cached pytz-2025.2-py2.py3-none-any.whl.metadata (22 kB)\n",
      "Collecting tzdata>=2022.7 (from pandas)\n",
      "  Using cached tzdata-2025.2-py2.py3-none-any.whl.metadata (1.4 kB)\n",
      "Requirement already satisfied: six>=1.5 in /opt/miniconda3/envs/qml-env/lib/python3.11/site-packages (from python-dateutil>=2.8.2->pandas) (1.17.0)\n",
      "Downloading pandas-2.3.0-cp311-cp311-macosx_11_0_arm64.whl (10.8 MB)\n",
      "\u001b[2K   \u001b[90m━━━━━━━━━━━━━━━━━━━━━━━━━━━━━━━━━━━━━━━━\u001b[0m \u001b[32m10.8/10.8 MB\u001b[0m \u001b[31m2.6 MB/s\u001b[0m eta \u001b[36m0:00:00\u001b[0m \u001b[36m0:00:01\u001b[0m\n",
      "\u001b[?25hUsing cached pytz-2025.2-py2.py3-none-any.whl (509 kB)\n",
      "Using cached tzdata-2025.2-py2.py3-none-any.whl (347 kB)\n",
      "Installing collected packages: pytz, tzdata, pandas\n",
      "\u001b[2K   \u001b[90m━━━━━━━━━━━━━━━━━━━━━━━━━━━━━━━━━━━━━━━━\u001b[0m \u001b[32m3/3\u001b[0m [pandas]2m2/3\u001b[0m [pandas]\n",
      "\u001b[1A\u001b[2KSuccessfully installed pandas-2.3.0 pytz-2025.2 tzdata-2025.2\n",
      "Collecting matplotlib\n",
      "  Downloading matplotlib-3.10.3-cp311-cp311-macosx_11_0_arm64.whl.metadata (11 kB)\n",
      "Collecting contourpy>=1.0.1 (from matplotlib)\n",
      "  Downloading contourpy-1.3.2-cp311-cp311-macosx_11_0_arm64.whl.metadata (5.5 kB)\n",
      "Collecting cycler>=0.10 (from matplotlib)\n",
      "  Using cached cycler-0.12.1-py3-none-any.whl.metadata (3.8 kB)\n",
      "Collecting fonttools>=4.22.0 (from matplotlib)\n",
      "  Downloading fonttools-4.58.5-cp311-cp311-macosx_10_9_universal2.whl.metadata (106 kB)\n",
      "Collecting kiwisolver>=1.3.1 (from matplotlib)\n",
      "  Downloading kiwisolver-1.4.8-cp311-cp311-macosx_11_0_arm64.whl.metadata (6.2 kB)\n",
      "Requirement already satisfied: numpy>=1.23 in /opt/miniconda3/envs/qml-env/lib/python3.11/site-packages (from matplotlib) (2.3.0)\n",
      "Requirement already satisfied: packaging>=20.0 in /opt/miniconda3/envs/qml-env/lib/python3.11/site-packages (from matplotlib) (25.0)\n",
      "Collecting pillow>=8 (from matplotlib)\n",
      "  Downloading pillow-11.3.0-cp311-cp311-macosx_11_0_arm64.whl.metadata (9.0 kB)\n",
      "Collecting pyparsing>=2.3.1 (from matplotlib)\n",
      "  Using cached pyparsing-3.2.3-py3-none-any.whl.metadata (5.0 kB)\n",
      "Requirement already satisfied: python-dateutil>=2.7 in /opt/miniconda3/envs/qml-env/lib/python3.11/site-packages (from matplotlib) (2.9.0.post0)\n",
      "Requirement already satisfied: six>=1.5 in /opt/miniconda3/envs/qml-env/lib/python3.11/site-packages (from python-dateutil>=2.7->matplotlib) (1.17.0)\n",
      "Downloading matplotlib-3.10.3-cp311-cp311-macosx_11_0_arm64.whl (8.1 MB)\n",
      "\u001b[2K   \u001b[90m━━━━━━━━━━━━━━━━━━━━━━━━━━━━━━━━━━━━━━━━\u001b[0m \u001b[32m8.1/8.1 MB\u001b[0m \u001b[31m8.9 MB/s\u001b[0m eta \u001b[36m0:00:00\u001b[0mta \u001b[36m0:00:01\u001b[0m\n",
      "\u001b[?25hDownloading contourpy-1.3.2-cp311-cp311-macosx_11_0_arm64.whl (254 kB)\n",
      "Using cached cycler-0.12.1-py3-none-any.whl (8.3 kB)\n",
      "Downloading fonttools-4.58.5-cp311-cp311-macosx_10_9_universal2.whl (2.8 MB)\n",
      "\u001b[2K   \u001b[90m━━━━━━━━━━━━━━━━━━━━━━━━━━━━━━━━━━━━━━━━\u001b[0m \u001b[32m2.8/2.8 MB\u001b[0m \u001b[31m14.7 MB/s\u001b[0m eta \u001b[36m0:00:00\u001b[0ma \u001b[36m0:00:01\u001b[0m\n",
      "\u001b[?25hDownloading kiwisolver-1.4.8-cp311-cp311-macosx_11_0_arm64.whl (65 kB)\n",
      "Downloading pillow-11.3.0-cp311-cp311-macosx_11_0_arm64.whl (4.7 MB)\n",
      "\u001b[2K   \u001b[90m━━━━━━━━━━━━━━━━━━━━━━━━━━━━━━━━━━━━━━━━\u001b[0m \u001b[32m4.7/4.7 MB\u001b[0m \u001b[31m14.0 MB/s\u001b[0m eta \u001b[36m0:00:00\u001b[0ma \u001b[36m0:00:01\u001b[0m\n",
      "\u001b[?25hUsing cached pyparsing-3.2.3-py3-none-any.whl (111 kB)\n",
      "Installing collected packages: pyparsing, pillow, kiwisolver, fonttools, cycler, contourpy, matplotlib\n",
      "\u001b[2K   \u001b[90m━━━━━━━━━━━━━━━━━━━━━━━━━━━━━━━━━━━━━━━━\u001b[0m \u001b[32m7/7\u001b[0m [matplotlib]7\u001b[0m [matplotlib]\n",
      "\u001b[1A\u001b[2KSuccessfully installed contourpy-1.3.2 cycler-0.12.1 fonttools-4.58.5 kiwisolver-1.4.8 matplotlib-3.10.3 pillow-11.3.0 pyparsing-3.2.3\n"
     ]
    }
   ],
   "source": [
    "!pip install pandas\n",
    "!pip install matplotlib"
   ]
  },
  {
   "cell_type": "code",
   "execution_count": 3,
   "id": "25db36e3-65e1-493e-a4df-80ff3231417b",
   "metadata": {},
   "outputs": [],
   "source": [
    "import pandas as pd\n",
    "import matplotlib.pyplot as plt\n",
    "import os"
   ]
  },
  {
   "cell_type": "code",
   "execution_count": 27,
   "id": "1f28e0bf-3c12-4d98-999e-984d972c50a9",
   "metadata": {},
   "outputs": [],
   "source": [
    "csv_files = [\n",
    "    'qmlp-mnist-run_run1-layer2_all_attacks.csv',\n",
    "    'qmlp-mnist-run_run2-layer2_all_attacks.csv',\n",
    "    'qmlp-mnist-run_run3-layer2_all_attacks.csv'\n",
    "]\n",
    "\n",
    "# csv_files = [\n",
    "#     'qmlp-mnist-run_run1-layer5_all_attacks.csv',\n",
    "#     'qmlp-mnist-run_run2-layer5_all_attacks.csv',\n",
    "#     'qmlp-mnist-run_run3-layer5_all_attacks.csv'\n",
    "# ]\n",
    "\n",
    "# csv_files = [\n",
    "#     'qmlp-mnist-run_run1-layer10_all_attacks.csv',\n",
    "#     'qmlp-mnist-run_run2-layer10_all_attacks.csv',\n",
    "#     'qmlp-mnist-run_run3-layer10_all_attacks.csv'\n",
    "# ]\n",
    "\n",
    "columns_to_analyze = [\n",
    "'accuracy', 'loss', 'precision', 'recall', 'f1', 'fpr', 'fnr', 'roc_auc', 'pr_auc'\n",
    "]\n",
    "ndfs = []\n",
    "for file in csv_files:\n",
    "    df = pd.read_csv(file)\n",
    "    ndfs.append(df)\n",
    "combined_df = pd.concat(ndfs, ignore_index=True)  "
   ]
  },
  {
   "cell_type": "code",
   "execution_count": 38,
   "id": "dc908136-65c9-4f99-9412-0d7f7c7a5884",
   "metadata": {},
   "outputs": [],
   "source": [
    "print(combined_df.head())\n",
    "print(len(combined_df))"
   ]
  },
  {
   "cell_type": "code",
   "execution_count": 64,
   "id": "ff228632-39fc-4fcf-8638-f31f643813f7",
   "metadata": {},
   "outputs": [
    {
     "name": "stdout",
     "output_type": "stream",
     "text": [
      "\n",
      "eps1 (Epsilon = 0.0):\n",
      "      accuracy      loss  precision    recall        f1       fpr       fnr  \\\n",
      "mean  0.794267  0.692083   0.794348  0.791381  0.792862  0.022866  0.208619   \n",
      "std   0.003101  0.011958   0.003282  0.003281  0.003277  0.000345  0.003281   \n",
      "\n",
      "       roc_auc  \n",
      "mean  0.970470  \n",
      "std   0.000741  \n",
      "\n",
      "eps2 (Epsilon = 0.01):\n",
      "      accuracy      loss  precision    recall        f1       fpr       fnr  \\\n",
      "mean  0.410300  1.936968   0.426617  0.414386  0.420061  0.065480  0.585614   \n",
      "std   0.015072  0.064543   0.021341  0.015798  0.010805  0.001692  0.015798   \n",
      "\n",
      "       roc_auc  \n",
      "mean  0.874425  \n",
      "std   0.003240  \n",
      "\n",
      "eps3 (Epsilon = 0.1):\n",
      "      accuracy      loss  precision    recall        f1       fpr       fnr  \\\n",
      "mean  0.026300  4.822516   0.018881  0.025857  0.021617  0.107887  0.974143   \n",
      "std   0.002696  0.160760   0.006398  0.002671  0.005145  0.000247  0.002671   \n",
      "\n",
      "       roc_auc  \n",
      "mean  0.408895  \n",
      "std   0.007040  \n",
      "\n",
      "eps4 (Epsilon = 0.15):\n",
      "      accuracy      loss  precision    recall        f1       fpr       fnr  \\\n",
      "mean  0.007033  6.886412   0.002781  0.006938  0.003963  0.110009  0.993062   \n",
      "std   0.001137  0.240517   0.000220  0.001122  0.000378  0.000089  0.001122   \n",
      "\n",
      "       roc_auc  \n",
      "mean  0.275299  \n",
      "std   0.004590  \n"
     ]
    }
   ],
   "source": [
    "def compute_mean_std(attack) -> None:\n",
    "    attack_df = combined_df[combined_df['Attack Type'] == attack]\n",
    "    \n",
    "    # Store epsilons in a dictionary\n",
    "    epsilons = {\n",
    "        'eps1': attack_df[attack_df['Epsilon'] == 0.00],\n",
    "        'eps2': attack_df[attack_df['Epsilon'] == 0.01],\n",
    "        'eps3': attack_df[attack_df['Epsilon'] == 0.10],\n",
    "        'eps4': attack_df[attack_df['Epsilon'] == 0.15],\n",
    "    }\n",
    "    \n",
    "    for name, df in epsilons.items():\n",
    "        # Drop non-metric columns\n",
    "        metrics_df = df.drop(columns=['Run ID', 'Epsilon', 'Attack Type', 'pr_auc'], errors='ignore')\n",
    "        \n",
    "        # Calculate mean and std\n",
    "        mean_series = metrics_df.mean()\n",
    "        std_series = metrics_df.std()\n",
    "        \n",
    "        # Combine into a single DataFrame\n",
    "        result_df = pd.DataFrame([mean_series, std_series], index=['mean', 'std'])\n",
    "        \n",
    "        print(f\"\\n{name} (Epsilon = {df['Epsilon'].iloc[0]}):\")\n",
    "        print(result_df)\n",
    "compute_mean_std('fgsm')"
   ]
  },
  {
   "cell_type": "code",
   "execution_count": 65,
   "id": "71173e3f-2663-4161-84fd-50f9db0f57a9",
   "metadata": {},
   "outputs": [
    {
     "name": "stdout",
     "output_type": "stream",
     "text": [
      "\n",
      "eps1 (Epsilon = 0.0):\n",
      "      accuracy      loss  precision    recall        f1       fpr       fnr  \\\n",
      "mean  0.794267  0.692083   0.794348  0.791381  0.792862  0.022866  0.208619   \n",
      "std   0.003101  0.011958   0.003282  0.003281  0.003277  0.000345  0.003281   \n",
      "\n",
      "       roc_auc  \n",
      "mean  0.970470  \n",
      "std   0.000741  \n",
      "\n",
      "eps2 (Epsilon = 0.01):\n",
      "      accuracy      loss  precision    recall        f1       fpr       fnr  \\\n",
      "mean  0.414667  1.921989   0.467916  0.418830  0.441606  0.065001  0.581170   \n",
      "std   0.016028  0.064438   0.052683  0.016751  0.032583  0.001797  0.016751   \n",
      "\n",
      "       roc_auc  \n",
      "mean  0.878959  \n",
      "std   0.003092  \n",
      "\n",
      "eps3 (Epsilon = 0.1):\n",
      "      accuracy      loss  precision    recall        f1       fpr       fnr  \\\n",
      "mean  0.026000  4.735065   0.033066  0.025534  0.028786  0.107990  0.974466   \n",
      "std   0.003381  0.177847   0.005895  0.003353  0.004308  0.000327  0.003353   \n",
      "\n",
      "       roc_auc  \n",
      "mean  0.450148  \n",
      "std   0.001303  \n",
      "\n",
      "eps4 (Epsilon = 0.15):\n",
      "      accuracy      loss  precision    recall        f1       fpr       fnr  \\\n",
      "mean  0.003367  6.922513   0.001257  0.003296  0.001819  0.110517  0.996704   \n",
      "std   0.000907  0.298929   0.000313  0.000882  0.000460  0.000065  0.000882   \n",
      "\n",
      "       roc_auc  \n",
      "mean  0.324063  \n",
      "std   0.003738  \n"
     ]
    }
   ],
   "source": [
    "compute_mean_std('pgd')"
   ]
  },
  {
   "cell_type": "code",
   "execution_count": null,
   "id": "da6ec1d8-6278-4743-b7ee-d5b69d2c68a3",
   "metadata": {},
   "outputs": [],
   "source": []
  }
 ],
 "metadata": {
  "kernelspec": {
   "display_name": "Python 3 (ipykernel)",
   "language": "python",
   "name": "python3"
  },
  "language_info": {
   "codemirror_mode": {
    "name": "ipython",
    "version": 3
   },
   "file_extension": ".py",
   "mimetype": "text/x-python",
   "name": "python",
   "nbconvert_exporter": "python",
   "pygments_lexer": "ipython3",
   "version": "3.11.13"
  }
 },
 "nbformat": 4,
 "nbformat_minor": 5
}
