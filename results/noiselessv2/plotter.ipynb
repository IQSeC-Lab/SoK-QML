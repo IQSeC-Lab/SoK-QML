{
 "cells": [
  {
   "cell_type": "code",
   "execution_count": 2,
   "id": "ea6ae295-a53d-45af-aec4-764a33fd32dc",
   "metadata": {
    "scrolled": true
   },
   "outputs": [
    {
     "name": "stdout",
     "output_type": "stream",
     "text": [
      "Collecting pandas\n",
      "  Downloading pandas-2.3.0-cp311-cp311-macosx_11_0_arm64.whl.metadata (91 kB)\n",
      "Requirement already satisfied: numpy>=1.23.2 in /opt/miniconda3/envs/qml-env/lib/python3.11/site-packages (from pandas) (2.3.0)\n",
      "Requirement already satisfied: python-dateutil>=2.8.2 in /opt/miniconda3/envs/qml-env/lib/python3.11/site-packages (from pandas) (2.9.0.post0)\n",
      "Collecting pytz>=2020.1 (from pandas)\n",
      "  Using cached pytz-2025.2-py2.py3-none-any.whl.metadata (22 kB)\n",
      "Collecting tzdata>=2022.7 (from pandas)\n",
      "  Using cached tzdata-2025.2-py2.py3-none-any.whl.metadata (1.4 kB)\n",
      "Requirement already satisfied: six>=1.5 in /opt/miniconda3/envs/qml-env/lib/python3.11/site-packages (from python-dateutil>=2.8.2->pandas) (1.17.0)\n",
      "Downloading pandas-2.3.0-cp311-cp311-macosx_11_0_arm64.whl (10.8 MB)\n",
      "\u001b[2K   \u001b[90m━━━━━━━━━━━━━━━━━━━━━━━━━━━━━━━━━━━━━━━━\u001b[0m \u001b[32m10.8/10.8 MB\u001b[0m \u001b[31m2.6 MB/s\u001b[0m eta \u001b[36m0:00:00\u001b[0m \u001b[36m0:00:01\u001b[0m\n",
      "\u001b[?25hUsing cached pytz-2025.2-py2.py3-none-any.whl (509 kB)\n",
      "Using cached tzdata-2025.2-py2.py3-none-any.whl (347 kB)\n",
      "Installing collected packages: pytz, tzdata, pandas\n",
      "\u001b[2K   \u001b[90m━━━━━━━━━━━━━━━━━━━━━━━━━━━━━━━━━━━━━━━━\u001b[0m \u001b[32m3/3\u001b[0m [pandas]2m2/3\u001b[0m [pandas]\n",
      "\u001b[1A\u001b[2KSuccessfully installed pandas-2.3.0 pytz-2025.2 tzdata-2025.2\n",
      "Collecting matplotlib\n",
      "  Downloading matplotlib-3.10.3-cp311-cp311-macosx_11_0_arm64.whl.metadata (11 kB)\n",
      "Collecting contourpy>=1.0.1 (from matplotlib)\n",
      "  Downloading contourpy-1.3.2-cp311-cp311-macosx_11_0_arm64.whl.metadata (5.5 kB)\n",
      "Collecting cycler>=0.10 (from matplotlib)\n",
      "  Using cached cycler-0.12.1-py3-none-any.whl.metadata (3.8 kB)\n",
      "Collecting fonttools>=4.22.0 (from matplotlib)\n",
      "  Downloading fonttools-4.58.5-cp311-cp311-macosx_10_9_universal2.whl.metadata (106 kB)\n",
      "Collecting kiwisolver>=1.3.1 (from matplotlib)\n",
      "  Downloading kiwisolver-1.4.8-cp311-cp311-macosx_11_0_arm64.whl.metadata (6.2 kB)\n",
      "Requirement already satisfied: numpy>=1.23 in /opt/miniconda3/envs/qml-env/lib/python3.11/site-packages (from matplotlib) (2.3.0)\n",
      "Requirement already satisfied: packaging>=20.0 in /opt/miniconda3/envs/qml-env/lib/python3.11/site-packages (from matplotlib) (25.0)\n",
      "Collecting pillow>=8 (from matplotlib)\n",
      "  Downloading pillow-11.3.0-cp311-cp311-macosx_11_0_arm64.whl.metadata (9.0 kB)\n",
      "Collecting pyparsing>=2.3.1 (from matplotlib)\n",
      "  Using cached pyparsing-3.2.3-py3-none-any.whl.metadata (5.0 kB)\n",
      "Requirement already satisfied: python-dateutil>=2.7 in /opt/miniconda3/envs/qml-env/lib/python3.11/site-packages (from matplotlib) (2.9.0.post0)\n",
      "Requirement already satisfied: six>=1.5 in /opt/miniconda3/envs/qml-env/lib/python3.11/site-packages (from python-dateutil>=2.7->matplotlib) (1.17.0)\n",
      "Downloading matplotlib-3.10.3-cp311-cp311-macosx_11_0_arm64.whl (8.1 MB)\n",
      "\u001b[2K   \u001b[90m━━━━━━━━━━━━━━━━━━━━━━━━━━━━━━━━━━━━━━━━\u001b[0m \u001b[32m8.1/8.1 MB\u001b[0m \u001b[31m8.9 MB/s\u001b[0m eta \u001b[36m0:00:00\u001b[0mta \u001b[36m0:00:01\u001b[0m\n",
      "\u001b[?25hDownloading contourpy-1.3.2-cp311-cp311-macosx_11_0_arm64.whl (254 kB)\n",
      "Using cached cycler-0.12.1-py3-none-any.whl (8.3 kB)\n",
      "Downloading fonttools-4.58.5-cp311-cp311-macosx_10_9_universal2.whl (2.8 MB)\n",
      "\u001b[2K   \u001b[90m━━━━━━━━━━━━━━━━━━━━━━━━━━━━━━━━━━━━━━━━\u001b[0m \u001b[32m2.8/2.8 MB\u001b[0m \u001b[31m14.7 MB/s\u001b[0m eta \u001b[36m0:00:00\u001b[0ma \u001b[36m0:00:01\u001b[0m\n",
      "\u001b[?25hDownloading kiwisolver-1.4.8-cp311-cp311-macosx_11_0_arm64.whl (65 kB)\n",
      "Downloading pillow-11.3.0-cp311-cp311-macosx_11_0_arm64.whl (4.7 MB)\n",
      "\u001b[2K   \u001b[90m━━━━━━━━━━━━━━━━━━━━━━━━━━━━━━━━━━━━━━━━\u001b[0m \u001b[32m4.7/4.7 MB\u001b[0m \u001b[31m14.0 MB/s\u001b[0m eta \u001b[36m0:00:00\u001b[0ma \u001b[36m0:00:01\u001b[0m\n",
      "\u001b[?25hUsing cached pyparsing-3.2.3-py3-none-any.whl (111 kB)\n",
      "Installing collected packages: pyparsing, pillow, kiwisolver, fonttools, cycler, contourpy, matplotlib\n",
      "\u001b[2K   \u001b[90m━━━━━━━━━━━━━━━━━━━━━━━━━━━━━━━━━━━━━━━━\u001b[0m \u001b[32m7/7\u001b[0m [matplotlib]7\u001b[0m [matplotlib]\n",
      "\u001b[1A\u001b[2KSuccessfully installed contourpy-1.3.2 cycler-0.12.1 fonttools-4.58.5 kiwisolver-1.4.8 matplotlib-3.10.3 pillow-11.3.0 pyparsing-3.2.3\n"
     ]
    }
   ],
   "source": [
    "!pip install pandas\n",
    "!pip install matplotlib"
   ]
  },
  {
   "cell_type": "code",
   "execution_count": 3,
   "id": "25db36e3-65e1-493e-a4df-80ff3231417b",
   "metadata": {},
   "outputs": [],
   "source": [
    "import pandas as pd\n",
    "import matplotlib.pyplot as plt\n",
    "import os"
   ]
  },
  {
   "cell_type": "code",
   "execution_count": 77,
   "id": "1f28e0bf-3c12-4d98-999e-984d972c50a9",
   "metadata": {},
   "outputs": [],
   "source": [
    "# csv_files = [\n",
    "#     'qmlp-mnist-run_run1-layer2_all_attacks.csv',\n",
    "#     'qmlp-mnist-run_run2-layer2_all_attacks.csv',\n",
    "#     'qmlp-mnist-run_run3-layer2_all_attacks.csv'\n",
    "# ]\n",
    "\n",
    "# csv_files = [\n",
    "#     'qmlp-mnist-run_run1-layer5_all_attacks.csv',\n",
    "#     'qmlp-mnist-run_run2-layer5_all_attacks.csv',\n",
    "#     'qmlp-mnist-run_run3-layer5_all_attacks.csv'\n",
    "# ]\n",
    "\n",
    "csv_files = [\n",
    "    'qmlp-mnist-run_run1-layer10_all_attacks.csv',\n",
    "    'qmlp-mnist-run_run2-layer10_all_attacks.csv',\n",
    "    'qmlp-mnist-run_run3-layer10_all_attacks.csv'\n",
    "]\n",
    "\n",
    "columns_to_analyze = [\n",
    "'accuracy', 'loss', 'precision', 'recall', 'f1', 'fpr', 'fnr', 'roc_auc', 'pr_auc'\n",
    "]\n",
    "ndfs = []\n",
    "for file in csv_files:\n",
    "    df = pd.read_csv(file)\n",
    "    ndfs.append(df)\n",
    "combined_df = pd.concat(ndfs, ignore_index=True)  "
   ]
  },
  {
   "cell_type": "code",
   "execution_count": 78,
   "id": "dc908136-65c9-4f99-9412-0d7f7c7a5884",
   "metadata": {},
   "outputs": [
    {
     "name": "stdout",
     "output_type": "stream",
     "text": [
      "   Run ID  Epsilon Attack Type  accuracy      loss  precision    recall  \\\n",
      "0       1     0.00        none    0.8206  0.583229   0.820392  0.818397   \n",
      "1       1     0.00        fgsm    0.8206  0.583229   0.820392  0.818397   \n",
      "2       1     0.01        fgsm    0.4369  1.880219   0.469440  0.444013   \n",
      "3       1     0.10        fgsm    0.0273  5.241955   0.019570  0.026841   \n",
      "4       1     0.15        fgsm    0.0091  7.037966   0.004951  0.008868   \n",
      "\n",
      "         f1       fpr       fnr   roc_auc  pr_auc  \n",
      "0  0.819393  0.019915  0.181603  0.978329     NaN  \n",
      "1  0.819393  0.019915  0.181603  0.978329     NaN  \n",
      "2  0.456373  0.062443  0.555987  0.856399     NaN  \n",
      "3  0.022636  0.107816  0.973159  0.419013     NaN  \n",
      "4  0.006354  0.109871  0.991132  0.312546     NaN  \n",
      "27\n"
     ]
    }
   ],
   "source": [
    "print(combined_df.head())\n",
    "print(len(combined_df))"
   ]
  },
  {
   "cell_type": "code",
   "execution_count": 79,
   "id": "ff228632-39fc-4fcf-8638-f31f643813f7",
   "metadata": {},
   "outputs": [
    {
     "name": "stdout",
     "output_type": "stream",
     "text": [
      "FGSM\n",
      "\n",
      "eps1 (Epsilon = 0.0):\n",
      "      accuracy      loss  precision    recall        f1       fpr       fnr  \\\n",
      "mean  0.829833  0.558837   0.829817  0.827443  0.828628  0.018900  0.172557   \n",
      "std   0.008670  0.024681   0.009018  0.008550  0.008782  0.000955  0.008550   \n",
      "\n",
      "       roc_auc  \n",
      "mean  0.980076  \n",
      "std   0.001754  \n",
      "\n",
      "eps2 (Epsilon = 0.01):\n",
      "      accuracy      loss  precision    recall        f1       fpr       fnr  \\\n",
      "mean  0.414033  2.014737   0.482341  0.420059  0.448241  0.064987  0.579941   \n",
      "std   0.031270  0.145117   0.013083  0.032611  0.014036  0.003500  0.032611   \n",
      "\n",
      "       roc_auc  \n",
      "mean  0.851513  \n",
      "std   0.007821  \n",
      "\n",
      "eps3 (Epsilon = 0.1):\n",
      "      accuracy      loss  precision    recall        f1       fpr       fnr  \\\n",
      "mean  0.028167  5.642596   0.018743  0.027670  0.022186  0.107726  0.972330   \n",
      "std   0.002136  0.349836   0.002612  0.002012  0.001315  0.000191  0.002012   \n",
      "\n",
      "       roc_auc  \n",
      "mean  0.417705  \n",
      "std   0.002237  \n",
      "\n",
      "eps4 (Epsilon = 0.15):\n",
      "      accuracy      loss  precision    recall        f1       fpr       fnr  \\\n",
      "mean  0.011100  7.511574   0.005042  0.010828  0.006832  0.109622  0.989172   \n",
      "std   0.002722  0.419182   0.000094  0.002663  0.000594  0.000283  0.002663   \n",
      "\n",
      "       roc_auc  \n",
      "mean  0.316229  \n",
      "std   0.003951  \n"
     ]
    }
   ],
   "source": [
    "def compute_mean_std(attack) -> None:\n",
    "    attack_df = combined_df[combined_df['Attack Type'] == attack]\n",
    "    \n",
    "    # Store epsilons in a dictionary\n",
    "    epsilons = {\n",
    "        'eps1': attack_df[attack_df['Epsilon'] == 0.00],\n",
    "        'eps2': attack_df[attack_df['Epsilon'] == 0.01],\n",
    "        'eps3': attack_df[attack_df['Epsilon'] == 0.10],\n",
    "        'eps4': attack_df[attack_df['Epsilon'] == 0.15],\n",
    "    }\n",
    "    \n",
    "    for name, df in epsilons.items():\n",
    "        # Drop non-metric columns\n",
    "        metrics_df = df.drop(columns=['Run ID', 'Epsilon', 'Attack Type', 'pr_auc'], errors='ignore')\n",
    "        \n",
    "        # Calculate mean and std\n",
    "        mean_series = metrics_df.mean()\n",
    "        std_series = metrics_df.std()\n",
    "        \n",
    "        # Combine into a single DataFrame\n",
    "        result_df = pd.DataFrame([mean_series, std_series], index=['mean', 'std'])\n",
    "        \n",
    "        print(f\"\\n{name} (Epsilon = {df['Epsilon'].iloc[0]}):\")\n",
    "        print(result_df)\n",
    "\n",
    "print('FGSM')\n",
    "compute_mean_std('fgsm')"
   ]
  },
  {
   "cell_type": "code",
   "execution_count": 80,
   "id": "71173e3f-2663-4161-84fd-50f9db0f57a9",
   "metadata": {},
   "outputs": [
    {
     "name": "stdout",
     "output_type": "stream",
     "text": [
      "PGD\n",
      "\n",
      "eps1 (Epsilon = 0.0):\n",
      "      accuracy      loss  precision    recall        f1       fpr       fnr  \\\n",
      "mean  0.829833  0.558837   0.829817  0.827443  0.828628  0.018900  0.172557   \n",
      "std   0.008670  0.024681   0.009018  0.008550  0.008782  0.000955  0.008550   \n",
      "\n",
      "       roc_auc  \n",
      "mean  0.980076  \n",
      "std   0.001754  \n",
      "\n",
      "eps2 (Epsilon = 0.01):\n",
      "      accuracy      loss  precision    recall        f1       fpr       fnr  \\\n",
      "mean  0.411200  2.026243   0.492711  0.417257  0.450989  0.065296  0.582743   \n",
      "std   0.030335  0.149368   0.015713  0.031542  0.012687  0.003394  0.031542   \n",
      "\n",
      "       roc_auc  \n",
      "mean  0.854063  \n",
      "std   0.007777  \n",
      "\n",
      "eps3 (Epsilon = 0.1):\n",
      "      accuracy      loss  precision    recall        f1       fpr       fnr  \\\n",
      "mean    0.0210  6.206117   0.018334  0.020625  0.019321  0.108553  0.979375   \n",
      "std     0.0035  0.439014   0.004529  0.003393  0.003718  0.000283  0.003393   \n",
      "\n",
      "       roc_auc  \n",
      "mean  0.448725  \n",
      "std   0.005459  \n",
      "\n",
      "eps4 (Epsilon = 0.15):\n",
      "      accuracy      loss  precision    recall        f1       fpr       fnr  \\\n",
      "mean  0.003200  9.046007   0.000990  0.003117  0.001492  0.110567  0.996883   \n",
      "std   0.001552  0.562726   0.000258  0.001502  0.000481  0.000149  0.001502   \n",
      "\n",
      "       roc_auc  \n",
      "mean  0.324539  \n",
      "std   0.005142  \n"
     ]
    }
   ],
   "source": [
    "print('PGD')\n",
    "compute_mean_std('pgd')"
   ]
  },
  {
   "cell_type": "code",
   "execution_count": null,
   "id": "da6ec1d8-6278-4743-b7ee-d5b69d2c68a3",
   "metadata": {},
   "outputs": [],
   "source": []
  },
  {
   "cell_type": "code",
   "execution_count": null,
   "id": "b4622093-7bf0-47e1-9d93-d1e17bd26f74",
   "metadata": {},
   "outputs": [],
   "source": []
  }
 ],
 "metadata": {
  "kernelspec": {
   "display_name": "Python 3 (ipykernel)",
   "language": "python",
   "name": "python3"
  },
  "language_info": {
   "codemirror_mode": {
    "name": "ipython",
    "version": 3
   },
   "file_extension": ".py",
   "mimetype": "text/x-python",
   "name": "python",
   "nbconvert_exporter": "python",
   "pygments_lexer": "ipython3",
   "version": "3.11.13"
  }
 },
 "nbformat": 4,
 "nbformat_minor": 5
}
